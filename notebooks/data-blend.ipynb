{
 "cells": [
  {
   "cell_type": "code",
   "execution_count": null,
   "id": "modular-institute",
   "metadata": {},
   "outputs": [],
   "source": [
    "import csv\n",
    "import string\n",
    "import re\n",
    "import pandas as pd\n",
    "from collections import Counter\n",
    "from datetime import datetime\n",
    "from src import common, string_matching"
   ]
  },
  {
   "cell_type": "code",
   "execution_count": null,
   "id": "pressed-watson",
   "metadata": {},
   "outputs": [],
   "source": [
    "dffortune = pd.read_csv('../data/fortune/f500_full_firm_data.csv')\n",
    "dffortune_sample = dffortune.loc[lambda x: (x['ranking']<=300) & (x['include']==True)].drop(columns=['include', 'ranklabel']).reset_index(drop=True)\n",
    "\n",
    "manual_scores_2019 = {\n",
    "    'Adobe': 7.86,\n",
    "    'HCA Healthcare': 6.89,\n",
    "    'Prudential Financial (U.S.)': 6.47,\n",
    "    'Lowe’s': 5.76\n",
    "}\n",
    "\n",
    "for k, v in manual_scores_2019.items():\n",
    "    dffortune_sample.loc[lambda x: x['firm']==k, 'reputation_score_2019'] = v\n",
    "\n",
    "dffortune_sample_r_growth = dffortune_sample.loc[lambda x: (~x['reputation_score_2020'].isnull()) & (~x['reputation_score_2019'].isnull())][['reputation_score_2020', 'reputation_score_2019']]\n",
    "dffortune_sample_r_growth = dffortune_sample_r_growth.loc[lambda x: (x['reputation_score_2020']!='-') & (x['reputation_score_2019']!='-')]\n",
    "\n",
    "dffortune_sample_r_growth = dffortune_sample_r_growth.astype(float).round(5)\n",
    "dffortune_sample_r_growth['reputation_score_growth'] = (dffortune_sample_r_growth['reputation_score_2020'] - dffortune_sample_r_growth['reputation_score_2019']) / dffortune_sample_r_growth['reputation_score_2019']\n",
    "\n",
    "dffortune_sample = pd.concat([dffortune_sample, dffortune_sample_r_growth[['reputation_score_growth']]], axis=1)"
   ]
  },
  {
   "cell_type": "markdown",
   "id": "circular-miniature",
   "metadata": {},
   "source": [
    "### privacy policy features (alg)"
   ]
  },
  {
   "cell_type": "code",
   "execution_count": null,
   "id": "fleet-department",
   "metadata": {},
   "outputs": [],
   "source": [
    "df_pp_features = pd.read_csv('../data/policies/features/firm_pp_features_0.2.0.csv')\n",
    "df_pp_features = df_pp_features.drop(columns=['firm'])\n",
    "df_pp_features.columns = [f'pp_{c}' if c != 'firmhash' else c for c in df_pp_features.columns]"
   ]
  },
  {
   "cell_type": "markdown",
   "id": "coordinate-matrix",
   "metadata": {},
   "source": [
    "### n data breaches"
   ]
  },
  {
   "cell_type": "code",
   "execution_count": null,
   "id": "polyphonic-davis",
   "metadata": {},
   "outputs": [],
   "source": [
    "df_prc_data_breaches = pd.read_csv('../data/breaches/prc_firm_data_breach_matches.csv')"
   ]
  },
  {
   "cell_type": "markdown",
   "id": "published-hands",
   "metadata": {},
   "source": [
    "### controls 1 ==> age"
   ]
  },
  {
   "cell_type": "code",
   "execution_count": null,
   "id": "satellite-diana",
   "metadata": {},
   "outputs": [],
   "source": [
    "df_control_1 = pd.read_csv('../data/dbs/date_of_incorporation_and_stock_turnover.csv')\n",
    "\n",
    "df_control_1['stock_turnover'] = df_control_1['stock_turnover'].str.replace(',', '.')\n",
    "df_control_1['stock_turnover'] = df_control_1['stock_turnover'].replace('n.a.', None)\n",
    "df_control_1['stock_turnover'] = df_control_1['stock_turnover'].replace('n.s.', None)\n",
    "df_control_1['stock_turnover'] = df_control_1['stock_turnover'].astype(float)\n",
    "\n",
    "df_control_1 = common.column_to_date(df_control_1, 'date_of_incorporation')\n",
    "df_control_1 = df_control_1.rename(columns={'last_available_year': 'stock_turnover_last_available_year'})\n",
    "\n",
    "df_control_1['age_in_years'] = round((pd.Timestamp.now() - pd.to_datetime(df_control_1['date_of_incorporation'])).dt.days / 364.24, 1)\n",
    "\n",
    "df_control_1, _, __ = string_matching.match_firm_hash(dffortune_sample, df_control_1)\n",
    "print(f'n no match: {_}')"
   ]
  },
  {
   "cell_type": "markdown",
   "id": "close-exercise",
   "metadata": {},
   "source": [
    "### control 2 ==> roa"
   ]
  },
  {
   "cell_type": "code",
   "execution_count": null,
   "id": "opponent-caribbean",
   "metadata": {},
   "outputs": [],
   "source": [
    "df_contron_2 = pd.read_csv('../data/dbs/return_on_assets.csv')\n",
    "df_contron_2 = df_contron_2[['firm', 'return_on_assets']].copy()\n",
    "df_contron_2['return_on_assets'] = df_contron_2['return_on_assets'].str.replace(',', '.').astype(float)\n",
    "df_contron_2, _, __ = string_matching.match_firm_hash(dffortune_sample, df_contron_2)\n",
    "print(f'n no match: {_}')"
   ]
  },
  {
   "cell_type": "markdown",
   "id": "nutritional-gender",
   "metadata": {},
   "source": [
    "### controls 3 ==> csr score"
   ]
  },
  {
   "cell_type": "code",
   "execution_count": null,
   "id": "expected-statistics",
   "metadata": {},
   "outputs": [],
   "source": [
    "df_csr_index = pd.read_csv('../data/msci_kld/msci_kld_social_ratings.csv')\n",
    "df_csr_index = df_csr_index.rename(columns={'last_available_year': 'csr_index_last_available_year'})"
   ]
  },
  {
   "cell_type": "markdown",
   "id": "social-biodiversity",
   "metadata": {},
   "source": [
    "### employee ratings"
   ]
  },
  {
   "cell_type": "code",
   "execution_count": null,
   "id": "studied-teddy",
   "metadata": {},
   "outputs": [],
   "source": [
    "df_employee = pd.read_csv('../data/dbs/employee_satisfaction_glassdoor.csv')\n",
    "df_employee = df_employee.drop(columns=['Industry', 'Sector'])\n",
    "df_employee.columns = [common.to_clean_string(c) for c in df_employee.columns]\n",
    "df_employee, _, __ = string_matching.match_firm_hash(dffortune_sample, df_employee)\n",
    "print(f'n no match: {_}')"
   ]
  },
  {
   "cell_type": "markdown",
   "id": "speaking-accident",
   "metadata": {},
   "source": [
    "### privacy policy features (manuals)"
   ]
  },
  {
   "cell_type": "code",
   "execution_count": null,
   "id": "competent-school",
   "metadata": {},
   "outputs": [],
   "source": [
    "df_ig_manuals = pd.read_csv('../data/dbs/information_governance_practises_manuals.csv')\n",
    "df_ig_manuals['privacy_policy_url'] = df_ig_manuals['Privacy Policy URL corrected']\n",
    "df_ig_manuals['privacy_policy_url'] = df_ig_manuals['privacy_policy_url'].fillna(df_ig_manuals['Privacy Policy URL'])\n",
    "df_ig_manuals = df_ig_manuals.drop(columns=['Industry', 'Sector', 'Collector ', 'Comment', 'Privacy Policy URL', 'Privacy Policy URL corrected'])\n",
    "df_ig_manuals.columns = [common.to_clean_string(c) for c in df_ig_manuals.columns]\n",
    "df_ig_manuals, _, __ = string_matching.match_firm_hash(dffortune_sample, df_ig_manuals)\n",
    "df_ig_manuals.columns = [f'pp_{c}' if c != 'firmhash' else c for c in df_ig_manuals.columns]\n",
    "print(f'n no match: {_}')"
   ]
  },
  {
   "cell_type": "markdown",
   "id": "northern-validity",
   "metadata": {},
   "source": [
    "### iss proposals"
   ]
  },
  {
   "cell_type": "code",
   "execution_count": null,
   "id": "duplicate-depth",
   "metadata": {},
   "outputs": [],
   "source": [
    "df_iss_share_pros = pd.read_csv('../data/dbs/iss_shareholder_proposals.csv')\n",
    "df_iss_share_pros.columns = [common.to_clean_string(c) for c in df_iss_share_pros.columns]\n",
    "df_iss_share_pros = common.column_to_date(df_iss_share_pros, 'meeting_date')\n",
    "df_iss_share_pros = df_iss_share_pros.rename(columns={'company_name': 'firm'})\n",
    "\n",
    "df_iss_share_pros_count = df_iss_share_pros.groupby('firm', as_index=False)[['other_status']].count().rename(columns={'other_status': 'number_of_shareholder_proposals'})\n",
    "\n",
    "df_iss_share_pros_count, _, __ = string_matching.match_firm_hash(dffortune_sample, df_iss_share_pros_count)\n",
    "print(f'n no match: {_}')"
   ]
  },
  {
   "cell_type": "markdown",
   "id": "retained-republican",
   "metadata": {},
   "source": [
    "### long-short term investors"
   ]
  },
  {
   "cell_type": "code",
   "execution_count": null,
   "id": "proud-property",
   "metadata": {},
   "outputs": [],
   "source": [
    "df_investors_shortlong = pd.read_csv('../data/dbs/long_short_term_investments.csv')\n",
    "df_investors_shortlong.columns = [common.to_clean_string(c) for c in df_investors_shortlong.columns]\n",
    "df_investors_shortlong.loc[lambda x: x['longterm']==0, 'share_shortterm_investors'] = df_investors_shortlong['share_percent']\n",
    "df_investors_shortlong.loc[lambda x: x['longterm']==1, 'share_longterm_investors'] = df_investors_shortlong['share_percent']\n",
    "df_shortlong_summed = df_investors_shortlong.groupby('firm', as_index=False)[['share_shortterm_investors', 'share_longterm_investors']].sum()\n",
    "df_shortlong_summed, _, __ = string_matching.match_firm_hash(dffortune_sample, df_shortlong_summed)\n",
    "print(f'n no match: {_}')"
   ]
  },
  {
   "cell_type": "code",
   "execution_count": null,
   "id": "apart-voice",
   "metadata": {},
   "outputs": [],
   "source": [
    "df_blended = dffortune_sample \\\n",
    ".merge(df_control_1, how='left', on='firmhash') \\\n",
    ".merge(df_contron_2, how='left', on='firmhash') \\\n",
    ".merge(df_pp_features, how='left', on='firmhash') \\\n",
    ".merge(df_ig_manuals, how='left', on='firmhash') \\\n",
    ".merge(df_prc_data_breaches, how='left', on='firmhash') \\\n",
    ".merge(df_csr_index, how='left', on='firmhash') \\\n",
    ".merge(df_employee, how='left', on='firmhash') \\\n",
    ".merge(df_iss_share_pros_count, how='left', on='firmhash') \\\n",
    ".merge(df_shortlong_summed, how='left', on='firmhash')"
   ]
  },
  {
   "cell_type": "code",
   "execution_count": null,
   "id": "serial-heart",
   "metadata": {},
   "outputs": [],
   "source": [
    "df_blended.columns"
   ]
  },
  {
   "cell_type": "markdown",
   "id": "racial-secretariat",
   "metadata": {},
   "source": [
    "### checks"
   ]
  },
  {
   "cell_type": "code",
   "execution_count": null,
   "id": "rapid-repository",
   "metadata": {},
   "outputs": [],
   "source": [
    "df_blended['pp_legislation_complied_with'] = df_blended['pp_legislation_complied_with'].str.strip().str.lower()\n",
    "for c in ['stock_turnover_last_available_year', 'csr_index_last_available_year']:\n",
    "    df_blended[c] = df_blended[c].fillna(-99).astype(int)"
   ]
  },
  {
   "cell_type": "markdown",
   "id": "boring-withdrawal",
   "metadata": {},
   "source": [
    "--> manual addons to reputation scores"
   ]
  },
  {
   "cell_type": "markdown",
   "id": "advance-slovakia",
   "metadata": {},
   "source": [
    "### save result"
   ]
  },
  {
   "cell_type": "code",
   "execution_count": null,
   "id": "geographic-christopher",
   "metadata": {},
   "outputs": [],
   "source": [
    "df_blended.to_csv('../data/modelinput/information_governance_full_dataset.csv',\n",
    "                  index=False,\n",
    "                  quoting=csv.QUOTE_NONNUMERIC,\n",
    "                  quotechar='\"')"
   ]
  }
 ],
 "metadata": {
  "kernelspec": {
   "display_name": "Python 3",
   "language": "python",
   "name": "python3"
  },
  "language_info": {
   "codemirror_mode": {
    "name": "ipython",
    "version": 3
   },
   "file_extension": ".py",
   "mimetype": "text/x-python",
   "name": "python",
   "nbconvert_exporter": "python",
   "pygments_lexer": "ipython3",
   "version": "3.8.9"
  }
 },
 "nbformat": 4,
 "nbformat_minor": 5
}
