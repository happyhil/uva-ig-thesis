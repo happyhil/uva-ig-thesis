{
 "cells": [
  {
   "cell_type": "code",
   "execution_count": null,
   "id": "decimal-contamination",
   "metadata": {},
   "outputs": [],
   "source": [
    "import numpy as np\n",
    "import pandas as pd\n",
    "import seaborn as sns\n",
    "from scipy import stats\n",
    "import matplotlib\n",
    "import matplotlib.pyplot as plt\n",
    "plt.style.use(\"ggplot\")\n",
    "plt.rcParams[\"figure.figsize\"] = [12, 8]"
   ]
  },
  {
   "cell_type": "code",
   "execution_count": null,
   "id": "environmental-finance",
   "metadata": {},
   "outputs": [],
   "source": [
    "fixed_model_columns = [\n",
    "    'firmhash',\n",
    "    'firm',\n",
    "    'sector',\n",
    "]"
   ]
  },
  {
   "cell_type": "code",
   "execution_count": null,
   "id": "viral-panic",
   "metadata": {},
   "outputs": [],
   "source": [
    "df_model = pd.read_csv('../data/modelinput/information_governance_clean_dataset.csv')"
   ]
  },
  {
   "cell_type": "code",
   "execution_count": null,
   "id": "freelance-techno",
   "metadata": {},
   "outputs": [],
   "source": [
    "df_model.dtypes"
   ]
  },
  {
   "cell_type": "code",
   "execution_count": null,
   "id": "precious-member",
   "metadata": {},
   "outputs": [],
   "source": [
    "sector_firm_count = df_model.groupby(['sector'])[['firm']].count()\n",
    "sector_firm_count.sort_values('firm', ascending=False)"
   ]
  },
  {
   "cell_type": "code",
   "execution_count": null,
   "id": "military-sailing",
   "metadata": {},
   "outputs": [],
   "source": [
    "df_model[['reputation_score_2020']].boxplot(vert=False)"
   ]
  },
  {
   "cell_type": "code",
   "execution_count": null,
   "id": "unauthorized-jacob",
   "metadata": {},
   "outputs": [],
   "source": [
    "df_model[['log_n_employees']].hist()"
   ]
  },
  {
   "cell_type": "code",
   "execution_count": null,
   "id": "certain-portfolio",
   "metadata": {},
   "outputs": [],
   "source": [
    "corr_columns = [c for c in df_model.columns if c not in fixed_model_columns]"
   ]
  },
  {
   "cell_type": "code",
   "execution_count": null,
   "id": "manufactured-findings",
   "metadata": {},
   "outputs": [],
   "source": [
    "plt.rcParams[\"figure.figsize\"] = [20, 8]\n",
    "heatmap = sns.heatmap(df_model[corr_columns].corr(), vmin=-1, vmax=1, annot=True)\n",
    "heatmap.set_title('Correlation Heatmap', fontdict={'fontsize':12}, pad=12);"
   ]
  },
  {
   "cell_type": "code",
   "execution_count": null,
   "id": "qualified-football",
   "metadata": {},
   "outputs": [],
   "source": [
    "def scientific_correlation_table(dataf, index_renames=None):\n",
    "    \"\"\"\"\"\"\n",
    "    \n",
    "    mean_values = ['{:.2f}'.format(v) for v in df_model[sc_corr_table_columns].mean().values]\n",
    "    std_values = ['{:.2f}'.format(v) for v in df_model[sc_corr_table_columns].std().values]\n",
    "    columns = ['Mean', 'S.D.']\n",
    "    table_values = [mean_values, std_values]\n",
    "    \n",
    "    indices = []\n",
    "    count = 0\n",
    "    for mainc in dataf.columns:\n",
    "        pcor_outputs = []\n",
    "        for corc in dataf.columns:\n",
    "            output = generate_pcor_and_pstars(df_model[corc], df_model[mainc])\n",
    "            pcor_outputs.append(output)\n",
    "        none_values = [None for v in range(count)]\n",
    "        values_include = pcor_outputs[-(len(pcor_outputs)-count):]\n",
    "        final_values = [*none_values, *values_include]\n",
    "        table_values.append(final_values)\n",
    "        indices.append(f'{count+1}. {mainc}')\n",
    "        columns.append(f'{count+1}.')\n",
    "        count += 1\n",
    "        \n",
    "    if index_renames != None:\n",
    "        indices = [f\"{x.split('. ')[0]}. {new_index_names[x.split('. ')[1]]}\" for x in indices]\n",
    "        \n",
    "    return pd.DataFrame(np.column_stack(table_values), index=indices, columns=columns)\n",
    "\n",
    "\n",
    "def generate_pcor_and_pstars(values1, values2):\n",
    "    \"\"\"\"\"\"\n",
    "    \n",
    "    output = stats.pearsonr(values1, values2)\n",
    "    \n",
    "    if output[0] > 0.99999:\n",
    "        sig = ''\n",
    "    elif output[1] <= 0.001:\n",
    "        sig = '***'\n",
    "    elif output[1] <= 0.01:\n",
    "        sig = '**'\n",
    "    elif output[1] <= 0.05:\n",
    "        sig = '*'\n",
    "    else:\n",
    "        sig = ''\n",
    "        \n",
    "    return '{:.2f}{}'.format(output[0], sig)"
   ]
  },
  {
   "cell_type": "code",
   "execution_count": null,
   "id": "exterior-excerpt",
   "metadata": {},
   "outputs": [],
   "source": [
    "new_index_names = {\n",
    "    'reputation_score_2020': 'Corporate Reputation Score',\n",
    "    'composite_relational_ig_practises': 'Relational IG Practises Composite ',\n",
    "    'composite_formal_ig_practises': 'Formal IG Practises Composite ',\n",
    "    'return_on_assets': 'Return on Assets',\n",
    "    'log_n_employees': 'Log Number of Employees',\n",
    "    'csr_index': 'CSR Index',\n",
    "    'logmin_n_data_breaches': 'Log (min=1) Number of Data Breaches',\n",
    "    'sqrt_age_in_years': 'Square Root Age',\n",
    "}\n",
    "\n",
    "sc_corr_table_columns = [x for x in corr_columns if 'dummy' not in x]\n",
    "\n",
    "df_sc_correlation_table = scientific_correlation_table(df_model[sc_corr_table_columns], new_index_names)"
   ]
  },
  {
   "cell_type": "code",
   "execution_count": null,
   "id": "confidential-antarctica",
   "metadata": {},
   "outputs": [],
   "source": [
    "df_sc_correlation_table"
   ]
  },
  {
   "cell_type": "code",
   "execution_count": null,
   "id": "posted-locking",
   "metadata": {},
   "outputs": [],
   "source": [
    "with pd.ExcelWriter('../data/modeloutput/scientific_correlation_table.xlsx', mode='w') as writer:  \n",
    "    df_sc_correlation_table.to_excel(writer, sheet_name='table')"
   ]
  }
 ],
 "metadata": {
  "kernelspec": {
   "display_name": "Python 3",
   "language": "python",
   "name": "python3"
  },
  "language_info": {
   "codemirror_mode": {
    "name": "ipython",
    "version": 3
   },
   "file_extension": ".py",
   "mimetype": "text/x-python",
   "name": "python",
   "nbconvert_exporter": "python",
   "pygments_lexer": "ipython3",
   "version": "3.8.9"
  }
 },
 "nbformat": 4,
 "nbformat_minor": 5
}
