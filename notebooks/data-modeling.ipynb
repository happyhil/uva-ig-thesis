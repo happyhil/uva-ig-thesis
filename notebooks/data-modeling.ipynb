{
 "cells": [
  {
   "cell_type": "code",
   "execution_count": null,
   "id": "handled-video",
   "metadata": {},
   "outputs": [],
   "source": [
    "import numpy as np\n",
    "import pandas as pd\n",
    "from sklearn.preprocessing import StandardScaler\n",
    "from statsmodels.stats.outliers_influence import variance_inflation_factor\n",
    "from statsmodels.tools import tools\n",
    "from src.model import OLSModel"
   ]
  },
  {
   "cell_type": "code",
   "execution_count": null,
   "id": "accredited-semiconductor",
   "metadata": {},
   "outputs": [],
   "source": [
    "def calc_vif(dataf, features, include_dummies=False, include_constant=False, extra_feature_exclude=None, standardize=True):\n",
    "    \n",
    "    if extra_feature_exclude != None:\n",
    "        features = [f for f in features if f not in extra_feature_exclude]\n",
    "    \n",
    "    dataf = dataf[features]\n",
    "    \n",
    "    if not include_dummies:\n",
    "        features = [c for c in features if 'dummy' not in c]\n",
    "        dataf = dataf[features]\n",
    "    else:\n",
    "        dataf = dataf[features]\n",
    "    if include_constant:\n",
    "        dataf = tools.add_constant(dataf)\n",
    "        \n",
    "    if standardize:\n",
    "        scaler = StandardScaler()\n",
    "        dataf = pd.DataFrame(scaler.fit_transform(dataf), columns=dataf.columns)\n",
    "    \n",
    "    df_vif = pd.DataFrame({\n",
    "        'variable': dataf.columns,\n",
    "        'vif': [variance_inflation_factor(dataf.values, i) for i in range(dataf.shape[1])]\n",
    "    })\n",
    "    \n",
    "    return df_vif\n",
    "\n",
    "\n",
    "def scientific_ols_table(model):\n",
    "    \n",
    "    dataf = pd.read_html(model.summary().tables[1].as_html(),header=0,index_col=0)[0]\n",
    "\n",
    "    INDEX_SWAP = {\n",
    "        'composite_relational_ig_practises': 'Composite Relational IG Practises',\n",
    "        'composite_formal_ig_practises': 'Composite Formal IG Practises',\n",
    "        'return_on_assets': 'Return on Assets',\n",
    "        'log_n_employees': 'Number of employees (LOG)',\n",
    "        'csr_index': 'CSR Index',\n",
    "        'logmin_n_data_breaches': 'Number of Data Breaches (LOG, min = 1)',\n",
    "        'sqrt_age_in_years': 'Age (Square Root)',\n",
    "    }\n",
    "\n",
    "    new_indices = []\n",
    "    coefs = []\n",
    "    stderr = []\n",
    "    tvalue = []\n",
    "    confintlow = []\n",
    "    confinthigh = []\n",
    "    pvalue = []\n",
    "    for i, r in dataf.iterrows():\n",
    "\n",
    "        if 'dummy' in i:\n",
    "            new_indices.append(f\"  {i.split('sector_')[1]}\")\n",
    "        else:\n",
    "            try:\n",
    "                new_indices.append(INDEX_SWAP[i])\n",
    "            except:\n",
    "                new_indices.append(i.title())\n",
    "\n",
    "        if r['P>|t|'] <= 0.001:\n",
    "            sig = '***'\n",
    "        elif r['P>|t|'] <= 0.01:\n",
    "            sig = '**'\n",
    "        elif r['P>|t|'] <= 0.05:\n",
    "            sig = '*'\n",
    "        else:\n",
    "            sig = ''\n",
    "\n",
    "        coefs.append(('{:.3f}{}'.format(r['coef'], sig)))\n",
    "        stderr.append(('{:.2f}'.format(r['std err'])))\n",
    "        tvalue.append(('{:.2f}'.format(r['t'])))\n",
    "        confintlow.append(('{:.2f}'.format(r['[0.025'])))\n",
    "        confinthigh.append(('{:.2f}'.format(r['0.975]'])))\n",
    "        confint = [f'{l} to {h}' for l, h in zip(confintlow, confinthigh)]\n",
    "        pvalue.append(('{:.3f}'.format(r['P>|t|'])))\n",
    "\n",
    "    df =  pd.DataFrame(np.column_stack([\n",
    "        coefs,\n",
    "        stderr,\n",
    "        tvalue,\n",
    "        confint,\n",
    "        pvalue,\n",
    "    ]), columns=[\n",
    "        'Coefficient (b)',\n",
    "        'SE',\n",
    "        't statistic',\n",
    "        '95% CI',\n",
    "        'p value',\n",
    "    ], index=new_indices)\n",
    "    \n",
    "    if model.f_pvalue <= 0.001:\n",
    "        sig = '***'\n",
    "    elif model.f_pvalue <= 0.01:\n",
    "        sig = '**'\n",
    "    elif model.f_pvalue <= 0.05:\n",
    "        sig = '*'\n",
    "    else:\n",
    "        sig = ''\n",
    "\n",
    "    dfextra = pd.DataFrame({\n",
    "        'Coefficient (b)': [\n",
    "            '{:.3f}'.format(model.rsquared),\n",
    "            '{:.3f}'.format(model.rsquared_adj),\n",
    "            '{:.3f}{}'.format(model.fvalue, sig),\n",
    "            '{:.3f}'.format(model.f_pvalue),\n",
    "        ]\n",
    "    }, index=[\n",
    "        'R2',\n",
    "        'Adjusted R2',\n",
    "        'F',\n",
    "        'Probability F',\n",
    "    ])\n",
    "    \n",
    "    return df, dfextra"
   ]
  },
  {
   "cell_type": "markdown",
   "id": "small-source",
   "metadata": {},
   "source": [
    "## confs"
   ]
  },
  {
   "cell_type": "code",
   "execution_count": null,
   "id": "copyrighted-irish",
   "metadata": {},
   "outputs": [],
   "source": [
    "fixed_model_columns = [\n",
    "    'firmhash',\n",
    "    'firm',\n",
    "    'sector',\n",
    "    'young_firm',\n",
    "    'reputation_score_2020',\n",
    "]\n",
    "Y_COLUMN = 'reputation_score_2020'"
   ]
  },
  {
   "cell_type": "code",
   "execution_count": null,
   "id": "enormous-hostel",
   "metadata": {},
   "outputs": [],
   "source": [
    "df = pd.read_csv('../data/modelinput/information_governance_clean_dataset.csv')"
   ]
  },
  {
   "cell_type": "markdown",
   "id": "variable-burlington",
   "metadata": {},
   "source": [
    "## --> ols model by theory features"
   ]
  },
  {
   "cell_type": "markdown",
   "id": "healthy-columbia",
   "metadata": {},
   "source": [
    "### - check on multicollinearity before running the model"
   ]
  },
  {
   "cell_type": "code",
   "execution_count": null,
   "id": "worse-rendering",
   "metadata": {},
   "outputs": [],
   "source": [
    "model_features = [c for c in df.columns if c not in fixed_model_columns]"
   ]
  },
  {
   "cell_type": "code",
   "execution_count": null,
   "id": "outstanding-extraction",
   "metadata": {},
   "outputs": [],
   "source": [
    "calc_vif(df,\n",
    "         model_features,\n",
    "#          extra_feature_exclude=['log_n_employees']\n",
    "        )"
   ]
  },
  {
   "cell_type": "code",
   "execution_count": null,
   "id": "electoral-fruit",
   "metadata": {},
   "outputs": [],
   "source": [
    "# model_features = [c for c in model_features if c not in ['log_n_employees']]\n",
    "model = OLSModel(df, model_features, Y_COLUMN, scale=True)"
   ]
  },
  {
   "cell_type": "code",
   "execution_count": null,
   "id": "amino-strip",
   "metadata": {},
   "outputs": [],
   "source": [
    "print(model.summary())"
   ]
  },
  {
   "cell_type": "code",
   "execution_count": null,
   "id": "arbitrary-azerbaijan",
   "metadata": {},
   "outputs": [],
   "source": [
    "df_ols, df_ols_extra = scientific_ols_table(model)"
   ]
  },
  {
   "cell_type": "code",
   "execution_count": null,
   "id": "intermediate-generator",
   "metadata": {},
   "outputs": [],
   "source": [
    "df_ols"
   ]
  },
  {
   "cell_type": "code",
   "execution_count": null,
   "id": "gentle-employment",
   "metadata": {},
   "outputs": [],
   "source": [
    "df_ols_extra"
   ]
  },
  {
   "cell_type": "code",
   "execution_count": null,
   "id": "dangerous-uniform",
   "metadata": {},
   "outputs": [],
   "source": [
    "with pd.ExcelWriter('../data/modeloutput/scientific_ols_table.xlsx', mode='w') as writer:  \n",
    "    df_ols.to_excel(writer, sheet_name='ols_betas')\n",
    "    df_ols_extra.to_excel(writer, sheet_name='ols')"
   ]
  },
  {
   "cell_type": "markdown",
   "id": "color-spelling",
   "metadata": {},
   "source": [
    "## --> PROCESS macro for moderation effect"
   ]
  },
  {
   "cell_type": "code",
   "execution_count": null,
   "id": "assumed-biodiversity",
   "metadata": {},
   "outputs": [],
   "source": [
    "from pyprocessmacro import Process"
   ]
  },
  {
   "cell_type": "code",
   "execution_count": null,
   "id": "bizarre-experience",
   "metadata": {},
   "outputs": [],
   "source": [
    "model = Process(data=df,\n",
    "                model=1,\n",
    "                x=['composite_relational_ig_practises'],\n",
    "                y=Y_COLUMN,\n",
    "                m=[\"young_firm\"])\n",
    "model.summary()"
   ]
  },
  {
   "cell_type": "code",
   "execution_count": null,
   "id": "sealed-grass",
   "metadata": {},
   "outputs": [],
   "source": [
    "model = Process(data=df,\n",
    "                model=1,\n",
    "                x=['composite_formal_ig_practises'],\n",
    "                y=Y_COLUMN,\n",
    "                m=[\"young_firm\"])\n",
    "model.summary()"
   ]
  },
  {
   "cell_type": "markdown",
   "id": "bulgarian-biology",
   "metadata": {},
   "source": [
    "## --> ols model by output of feature selection"
   ]
  },
  {
   "cell_type": "code",
   "execution_count": null,
   "id": "realistic-arcade",
   "metadata": {},
   "outputs": [],
   "source": [
    "import json"
   ]
  },
  {
   "cell_type": "code",
   "execution_count": null,
   "id": "bridal-cambodia",
   "metadata": {},
   "outputs": [],
   "source": [
    "with open('../data/modeloutput/feature_fits_20210421_002632.json', 'r') as infile:\n",
    "    results = json.load(infile)"
   ]
  },
  {
   "cell_type": "code",
   "execution_count": null,
   "id": "engaging-wonder",
   "metadata": {
    "tags": []
   },
   "outputs": [],
   "source": [
    "count = 0\n",
    "max_score = 0\n",
    "best_features = None\n",
    "for k, v in results.items():\n",
    "    if v['rsquared_adj'] > max_score:\n",
    "        max_score = v['rsquared_adj']\n",
    "        n_significant = v['n_significant']\n",
    "        best_features = v['features']"
   ]
  },
  {
   "cell_type": "code",
   "execution_count": null,
   "id": "welsh-being",
   "metadata": {},
   "outputs": [],
   "source": [
    "model = _model(df, best_features, Y_COLUMN)"
   ]
  },
  {
   "cell_type": "code",
   "execution_count": null,
   "id": "bearing-cloud",
   "metadata": {},
   "outputs": [],
   "source": [
    "print(model.summary())"
   ]
  }
 ],
 "metadata": {
  "kernelspec": {
   "display_name": "Python 3",
   "language": "python",
   "name": "python3"
  },
  "language_info": {
   "codemirror_mode": {
    "name": "ipython",
    "version": 3
   },
   "file_extension": ".py",
   "mimetype": "text/x-python",
   "name": "python",
   "nbconvert_exporter": "python",
   "pygments_lexer": "ipython3",
   "version": "3.8.9"
  }
 },
 "nbformat": 4,
 "nbformat_minor": 5
}
