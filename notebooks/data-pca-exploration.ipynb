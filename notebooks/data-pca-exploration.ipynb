{
 "cells": [
  {
   "cell_type": "code",
   "execution_count": null,
   "id": "inappropriate-support",
   "metadata": {},
   "outputs": [],
   "source": [
    "import pandas as pd\n",
    "import numpy as np\n",
    "from sklearn.decomposition import FactorAnalysis\n",
    "from sklearn.decomposition import PCA\n",
    "from sklearn.preprocessing import StandardScaler"
   ]
  },
  {
   "cell_type": "code",
   "execution_count": null,
   "id": "continuous-kuwait",
   "metadata": {},
   "outputs": [],
   "source": [
    "df = pd.read_csv('../data/modelinput/information_governance_full_dataset_raw.csv')"
   ]
  },
  {
   "cell_type": "markdown",
   "id": "going-wedding",
   "metadata": {},
   "source": [
    "### first try"
   ]
  },
  {
   "cell_type": "code",
   "execution_count": null,
   "id": "surgical-carbon",
   "metadata": {},
   "outputs": [],
   "source": [
    "rela_cols = {\n",
    "    'pp_ambiquity_score_standardized_reverse': 'Ambiquity (standardized & inversed)',\n",
    "    'pp_gunning_fog_index_standardized_reverse': 'Readability (standardized & inversed)',\n",
    "    'pp_contact_option': 'Contact option',\n",
    "    'pp_existence_of_a_transparency_report': 'Transparency report',\n",
    "}\n",
    "form_cols = {\n",
    "    'dummy_pp_legislation_complied_with_standard_reverse': 'Legislation applied (inversed)',\n",
    "    'pp_third_party_sharing_reverse': 'Third part sharing (inversed)',\n",
    "    'pp_existence_of_a_data_protection_officer': 'Data Protection Officer',\n",
    "    'pp_iso_type': 'ISO security system',\n",
    "}\n",
    "\n",
    "def conduct_pca(dataf, cols, name, n_pcas):\n",
    "    \n",
    "    pca = PCA(n_components=n_pcas)\n",
    "    \n",
    "    components = pca.fit_transform(dataf[cols.keys()])\n",
    "    \n",
    "    # dataf[f'pca_{name}'] = components[:,0:n_pcas].sum(axis=1)\n",
    "    dataf[f'pca_{name}'] = components[:,0] * pca.explained_variance_ratio_[0] + \\\n",
    "                           components[:,1] * pca.explained_variance_ratio_[1] + \\\n",
    "                           components[:,2] * pca.explained_variance_ratio_[2] + \\\n",
    "                           components[:,3] * pca.explained_variance_ratio_[3]\n",
    "    \n",
    "    print('Explained variance by component: %s' % pca.explained_variance_ratio_)\n",
    "    print(f'Explained variance by component 1: {round(pca.explained_variance_ratio_[0]*100, 3)}%')\n",
    "    print(f'Total variance explained by all components: {round(sum(pca.explained_variance_ratio_)*100, 3)}%')\n",
    "    \n",
    "    df_eigv = pd.DataFrame([[\"{:.2f}\".format(x) for x in pca.explained_variance_]],\n",
    "                           columns=[f'PC{n}' for n in range(1, n_pcas+1)],\n",
    "                           index=['Eigenvalue'])\n",
    "    \n",
    "    df_expl = pd.DataFrame([[\"{:.2f}\".format(x*100)+ \"%\" for x in pca.explained_variance_ratio_]],\n",
    "                           columns=[f'PC{n}' for n in range(1, n_pcas+1)],\n",
    "                           index=['Percentage of variance explained'])\n",
    "    \n",
    "    loadings = pca.components_.T * np.sqrt(pca.explained_variance_)\n",
    "    df_loadings = pd.DataFrame(loadings.round(3),\n",
    "                               columns=[f'PC{n}' for n in range(1, n_pcas+1)],\n",
    "                               index=[f'  {c}' for c in cols.values()])\n",
    "    \n",
    "    report_table = pd.concat([df_loadings, df_eigv, df_expl])\n",
    "    \n",
    "    return report_table, loadings"
   ]
  },
  {
   "cell_type": "code",
   "execution_count": null,
   "id": "tired-monroe",
   "metadata": {},
   "outputs": [],
   "source": [
    "df_report, _ = conduct_pca(df, rela_cols, 'composite_relational_ig_practises', 4)"
   ]
  },
  {
   "cell_type": "code",
   "execution_count": null,
   "id": "parental-brave",
   "metadata": {},
   "outputs": [],
   "source": [
    "df_report"
   ]
  },
  {
   "cell_type": "code",
   "execution_count": null,
   "id": "aging-identification",
   "metadata": {},
   "outputs": [],
   "source": [
    "df_report, _ = conduct_pca(df, form_cols, 'composite_formal_ig_practises', 4)"
   ]
  },
  {
   "cell_type": "code",
   "execution_count": null,
   "id": "southeast-welcome",
   "metadata": {},
   "outputs": [],
   "source": [
    "df_report"
   ]
  },
  {
   "cell_type": "code",
   "execution_count": null,
   "id": "accepting-cloud",
   "metadata": {},
   "outputs": [],
   "source": [
    "import matplotlib\n",
    "import matplotlib.pyplot as plt\n",
    "plt.style.use(\"ggplot\")\n",
    "plt.rcParams[\"figure.figsize\"] = [12, 8]"
   ]
  },
  {
   "cell_type": "markdown",
   "id": "employed-trick",
   "metadata": {},
   "source": [
    "### second try"
   ]
  },
  {
   "cell_type": "code",
   "execution_count": null,
   "id": "rational-journey",
   "metadata": {},
   "outputs": [],
   "source": [
    "all_cols = {\n",
    "    'pp_ambiquity_score_standardized_reverse': 'Ambiquity (standardized & inversed)',\n",
    "    'pp_gunning_fog_index_standardized_reverse': 'Readability (standardized & inversed)',\n",
    "    'pp_contact_option': 'Contact option',\n",
    "    'pp_existence_of_a_transparency_report': 'Transparency report',\n",
    "    'dummy_pp_legislation_complied_with_standard_reverse': 'Legislation applied (inversed)',\n",
    "    'pp_third_party_sharing_reverse': 'Third part sharing (inversed)',\n",
    "    'pp_existence_of_a_data_protection_officer': 'Data Protection Officer',\n",
    "    'pp_iso_type': 'ISO security system',\n",
    "}\n",
    "\n",
    "def conduct_pca(dataf, cols, name, n_pcas):\n",
    "    \n",
    "    pca = PCA(n_components=n_pcas)\n",
    "    \n",
    "    components = pca.fit_transform(dataf[cols.keys()])\n",
    "    \n",
    "    # dataf[f'pca_{name}'] = components[:,0:n_pcas].sum(axis=1)\n",
    "    dataf[f'pca_{name}'] = components[:,0] * pca.explained_variance_ratio_[0] + \\\n",
    "                           components[:,1] * pca.explained_variance_ratio_[1] + \\\n",
    "                           components[:,2] * pca.explained_variance_ratio_[2] + \\\n",
    "                           components[:,3] * pca.explained_variance_ratio_[3] + \\\n",
    "                           components[:,4] * pca.explained_variance_ratio_[4] + \\\n",
    "                           components[:,5] * pca.explained_variance_ratio_[5] + \\\n",
    "                           components[:,6] * pca.explained_variance_ratio_[6] + \\\n",
    "                           components[:,7] * pca.explained_variance_ratio_[7]\n",
    "    \n",
    "    print('Explained variance by component: %s' % pca.explained_variance_ratio_)\n",
    "    print(f'Explained variance by component 1: {round(pca.explained_variance_ratio_[0]*100, 3)}%')\n",
    "    print(f'Total variance explained by all components: {round(sum(pca.explained_variance_ratio_)*100, 3)}%')\n",
    "    \n",
    "    df_eigv = pd.DataFrame([[\"{:.2f}\".format(x) for x in pca.explained_variance_]],\n",
    "                           columns=[f'PC{n}' for n in range(1, n_pcas+1)],\n",
    "                           index=['Eigenvalue'])\n",
    "    \n",
    "    df_expl = pd.DataFrame([[\"{:.2f}\".format(x*100)+ \"%\" for x in pca.explained_variance_ratio_]],\n",
    "                           columns=[f'PC{n}' for n in range(1, n_pcas+1)],\n",
    "                           index=['Percentage of variance explained'])\n",
    "    \n",
    "    loadings = pca.components_.T * np.sqrt(pca.explained_variance_)\n",
    "    df_loadings = pd.DataFrame(loadings.round(3),\n",
    "                               columns=[f'PC{n}' for n in range(1, n_pcas+1)],\n",
    "                               index=[f'  {c}' for c in cols.values()])\n",
    "    \n",
    "    report_table = pd.concat([df_loadings, df_eigv, df_expl])\n",
    "    \n",
    "    return report_table, loadings"
   ]
  },
  {
   "cell_type": "code",
   "execution_count": null,
   "id": "extensive-prospect",
   "metadata": {},
   "outputs": [],
   "source": [
    "df_input = df.copy()\n",
    "if False:\n",
    "    scaler = StandardScaler()\n",
    "    df_input = pd.DataFrame(scaler.fit_transform(df_input[all_cols.keys()]), columns=all_cols.keys())"
   ]
  },
  {
   "cell_type": "code",
   "execution_count": null,
   "id": "tracked-census",
   "metadata": {},
   "outputs": [],
   "source": [
    "df_report, _ = conduct_pca(df_input, all_cols, 'ig_practises', 8)"
   ]
  },
  {
   "cell_type": "code",
   "execution_count": null,
   "id": "essential-license",
   "metadata": {},
   "outputs": [],
   "source": [
    "df_report"
   ]
  },
  {
   "cell_type": "code",
   "execution_count": null,
   "id": "intimate-screen",
   "metadata": {},
   "outputs": [],
   "source": [
    "df_input[all_cols.keys()].corr()"
   ]
  }
 ],
 "metadata": {
  "kernelspec": {
   "display_name": "Python 3",
   "language": "python",
   "name": "python3"
  },
  "language_info": {
   "codemirror_mode": {
    "name": "ipython",
    "version": 3
   },
   "file_extension": ".py",
   "mimetype": "text/x-python",
   "name": "python",
   "nbconvert_exporter": "python",
   "pygments_lexer": "ipython3",
   "version": "3.8.9"
  }
 },
 "nbformat": 4,
 "nbformat_minor": 5
}
