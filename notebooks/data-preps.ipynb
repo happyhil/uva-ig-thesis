{
 "cells": [
  {
   "cell_type": "code",
   "execution_count": 1,
   "id": "afraid-caribbean",
   "metadata": {},
   "outputs": [],
   "source": [
    "import csv\n",
    "import pandas as pd\n",
    "from src import common, features"
   ]
  },
  {
   "cell_type": "code",
   "execution_count": 11,
   "id": "spectacular-protocol",
   "metadata": {},
   "outputs": [],
   "source": [
    "isnull_columns = [\n",
    "    'revenue_in_millions',\n",
    "    'profits_in_millions',\n",
    "    'age_in_years',\n",
    "    'return_on_assets',\n",
    "    'csr_index',\n",
    "]\n",
    "\n",
    "min_columns = {\n",
    "    'pp_n_sentence': 1,\n",
    "    'n_employees': 0,\n",
    "    'csr_index_last_available_year': 2017,\n",
    "}\n",
    "\n",
    "ig_feature_relational_practises = {\n",
    "    'name': 'relational_ig_practises',\n",
    "    'features': {\n",
    "        'pp_ambiquity_score': {\n",
    "            'type': 'continues',\n",
    "            'best_value': 0,\n",
    "        },\n",
    "        'pp_gunning_fog_index': {\n",
    "            'type': 'continues',\n",
    "            'best_value': 0,\n",
    "        },\n",
    "        'pp_contact_option': {\n",
    "            'type': 'binary',\n",
    "            'best_value': 1,\n",
    "        },\n",
    "        'pp_existence_of_a_transparency_report': {\n",
    "            'type': 'binary',\n",
    "            'best_value': 1,\n",
    "        },\n",
    "    }\n",
    "}\n",
    "\n",
    "ig_feature_formal_practises = {\n",
    "    'name': 'formal_ig_practises',\n",
    "    'features': {\n",
    "        'dummy_pp_legislation_complied_with_standard': {\n",
    "            'type': 'binary',\n",
    "            'best_value': 0,\n",
    "        },\n",
    "        'pp_third_party_sharing': {\n",
    "            'type': 'binary',\n",
    "            'best_value': 0,\n",
    "        },\n",
    "        'pp_existence_of_a_data_protection_officer': {\n",
    "            'type': 'binary',\n",
    "            'best_value': 1,\n",
    "        },\n",
    "        'pp_iso_type': {\n",
    "            'type': 'binary',\n",
    "            'best_value': 1,\n",
    "        },\n",
    "    }\n",
    "}\n",
    "\n",
    "dummy_columns = ['pp_legislation_complied_with', 'sector']"
   ]
  },
  {
   "cell_type": "code",
   "execution_count": 12,
   "id": "simplified-surrey",
   "metadata": {},
   "outputs": [],
   "source": [
    "dfraw = pd.read_csv('../data/modelinput/information_governance_full_dataset.csv')"
   ]
  },
  {
   "cell_type": "code",
   "execution_count": 13,
   "id": "concerned-riding",
   "metadata": {},
   "outputs": [
    {
     "data": {
      "text/plain": [
       "firmhash                                       int64\n",
       "firm                                          object\n",
       "url                                           object\n",
       "ranking                                        int64\n",
       "industry                                      object\n",
       "sector                                        object\n",
       "revenue_in_millions                          float64\n",
       "profits_in_millions                          float64\n",
       "market_value_in_millions                     float64\n",
       "n_employees                                    int64\n",
       "reputation_score_2020                        float64\n",
       "reputation_score_2019                        float64\n",
       "reputation_score_growth                      float64\n",
       "stock_turnover_last_available_year             int64\n",
       "date_of_incorporation                         object\n",
       "stock_turnover                               float64\n",
       "age_in_years                                 float64\n",
       "return_on_assets                             float64\n",
       "pp_n_sentence                                float64\n",
       "pp_number_of_words                           float64\n",
       "pp_number_of_unique_words                    float64\n",
       "pp_ambiquity_score                           float64\n",
       "pp_gunning_fog_index                         float64\n",
       "pp_privacy_policy_exists                       int64\n",
       "pp_existence_of_a_transparency_report        float64\n",
       "pp_contact_option                            float64\n",
       "pp_legislation_complied_with                  object\n",
       "pp_third_party_sharing                       float64\n",
       "pp_existence_of_a_data_protection_officer    float64\n",
       "pp_iso_type                                  float64\n",
       "pp_privacy_policy_url                         object\n",
       "n_data_breaches                                int64\n",
       "csr_index_last_available_year                  int64\n",
       "csr_index                                    float64\n",
       "number_of_reviews                              int64\n",
       "overall_employer_rating                      float64\n",
       "culture_values                               float64\n",
       "diversity_inclusion                          float64\n",
       "work_life_balance                            float64\n",
       "senior_management                            float64\n",
       "compensation_benefits                        float64\n",
       "career_opportunities                         float64\n",
       "female_male                                   object\n",
       "number_of_shareholder_proposals              float64\n",
       "share_shortterm_investors                    float64\n",
       "share_longterm_investors                     float64\n",
       "dtype: object"
      ]
     },
     "execution_count": 13,
     "metadata": {},
     "output_type": "execute_result"
    }
   ],
   "source": [
    "dfraw.dtypes"
   ]
  },
  {
   "cell_type": "code",
   "execution_count": 14,
   "id": "mighty-international",
   "metadata": {},
   "outputs": [
    {
     "name": "stdout",
     "output_type": "stream",
     "text": [
      "revenue_in_millions: 0 rows are filtered out\n",
      "profits_in_millions: 0 rows are filtered out\n",
      "age_in_years: 7 rows are filtered out\n",
      "return_on_assets: 3 rows are filtered out\n",
      "csr_index: 0 rows are filtered out\n",
      "pp_n_sentence: 1 rows are filtered out\n",
      "n_employees: 0 rows are filtered out\n",
      "csr_index_last_available_year: 0 rows are filtered out\n"
     ]
    },
    {
     "data": {
      "text/plain": [
       "{'Raw sample': 225,\n",
       " 'With reputation 2020': 126,\n",
       " 'With reputation 2019': 119,\n",
       " 'With privacy policy available': 117,\n",
       " 'With other variables available': 106}"
      ]
     },
     "execution_count": 14,
     "metadata": {},
     "output_type": "execute_result"
    }
   ],
   "source": [
    "waterfall_on_selection = {}\n",
    "\n",
    "waterfall_on_selection['Raw sample'] = dfraw['firmhash'].nunique()\n",
    "\n",
    "df1 = dfraw.loc[lambda x: ~x['reputation_score_2020'].isnull()]\n",
    "waterfall_on_selection['With reputation 2020'] = df1['firmhash'].nunique()\n",
    "\n",
    "df2 = df1.loc[lambda x: ~x['reputation_score_2019'].isnull()]\n",
    "waterfall_on_selection['With reputation 2019'] = df2['firmhash'].nunique()\n",
    "\n",
    "df3 = df2.loc[lambda x: x['pp_privacy_policy_exists']==1]\n",
    "waterfall_on_selection['With privacy policy available'] = df3['firmhash'].nunique()\n",
    "\n",
    "df4 = common._filter_out_nulls(df3, isnull_columns)\n",
    "df_clean = common._filter_on_mins(df4, min_columns)\n",
    "\n",
    "df_clean = common.create_dummies(df_clean, dummy_columns)\n",
    "\n",
    "df_clean = features.combine_features(df_clean, ig_feature_relational_practises)\n",
    "df_clean = features.combine_features(df_clean, ig_feature_formal_practises)\n",
    "\n",
    "df_clean.to_csv('../data/modelinput/information_governance_clean_dataset.csv',\n",
    "                index=False,\n",
    "                quoting=csv.QUOTE_NONNUMERIC,\n",
    "                quotechar='\"')\n",
    "\n",
    "waterfall_on_selection['With other variables available'] = df_clean['firmhash'].nunique()\n",
    "\n",
    "waterfall_on_selection"
   ]
  },
  {
   "cell_type": "markdown",
   "id": "seven-trainer",
   "metadata": {},
   "source": [
    "### viz sample filters"
   ]
  },
  {
   "cell_type": "code",
   "execution_count": 6,
   "id": "wired-pepper",
   "metadata": {},
   "outputs": [],
   "source": [
    "import matplotlib\n",
    "import matplotlib.pyplot as plt\n",
    "plt.style.use(\"ggplot\")\n",
    "plt.rcParams[\"figure.figsize\"] = [12, 8]"
   ]
  },
  {
   "cell_type": "code",
   "execution_count": 7,
   "id": "atmospheric-folder",
   "metadata": {},
   "outputs": [
    {
     "data": {
      "image/png": "[encoded data removed]",
      "text/plain": [
       "<Figure size 864x576 with 1 Axes>"
      ]
     },
     "metadata": {},
     "output_type": "display_data"
    }
   ],
   "source": [
    "fig, ax = plt.subplots()\n",
    "plotvalues = ax.bar(waterfall_on_selection.keys(), waterfall_on_selection.values(), color='#999')\n",
    "ax.xaxis.set_tick_params(labelsize=14)\n",
    "plt.xticks(rotation=90)\n",
    "plt.bar_label(plotvalues, padding=3)\n",
    "plt.show()"
   ]
  },
  {
   "cell_type": "code",
   "execution_count": null,
   "id": "prospective-leisure",
   "metadata": {},
   "outputs": [],
   "source": []
  }
 ],
 "metadata": {
  "kernelspec": {
   "display_name": "Python 3",
   "language": "python",
   "name": "python3"
  },
  "language_info": {
   "codemirror_mode": {
    "name": "ipython",
    "version": 3
   },
   "file_extension": ".py",
   "mimetype": "text/x-python",
   "name": "python",
   "nbconvert_exporter": "python",
   "pygments_lexer": "ipython3",
   "version": "3.8.9"
  }
 },
 "nbformat": 4,
 "nbformat_minor": 5
}
