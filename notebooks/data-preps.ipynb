{
 "cells": [
  {
   "cell_type": "code",
   "execution_count": null,
   "id": "logical-triple",
   "metadata": {},
   "outputs": [],
   "source": [
    "import csv\n",
    "import pandas as pd\n",
    "from src import common, features"
   ]
  },
  {
   "cell_type": "code",
   "execution_count": null,
   "id": "sticky-policy",
   "metadata": {},
   "outputs": [],
   "source": [
    "isnull_columns = [\n",
    "    'reputation_score_2020',\n",
    "    'revenue_in_millions',\n",
    "    'profits_in_millions',\n",
    "    'age_in_years',\n",
    "    'return_on_assets',\n",
    "    'csr_index',\n",
    "]\n",
    "\n",
    "min_columns = {\n",
    "    'pp_privacy_policy_exists': 1,\n",
    "    'pp_n_sentence': 1,\n",
    "    'n_employees': 1,\n",
    "    'csr_index_last_available_year': 2017,\n",
    "}\n",
    "\n",
    "ig_feature_relational_practises = {\n",
    "    'name': 'composite_relational_ig_practises',\n",
    "    'features': {\n",
    "        'pp_ambiquity_score': {\n",
    "            'type': 'continues',\n",
    "            'best_value': 0,\n",
    "        },\n",
    "        'pp_gunning_fog_index': {\n",
    "            'type': 'continues',\n",
    "            'best_value': 0,\n",
    "        },\n",
    "        'pp_contact_option': {\n",
    "            'type': 'binary',\n",
    "            'best_value': 1,\n",
    "        },\n",
    "        'pp_existence_of_a_transparency_report': {\n",
    "            'type': 'binary',\n",
    "            'best_value': 1,\n",
    "        },\n",
    "    }\n",
    "}\n",
    "\n",
    "ig_feature_formal_practises = {\n",
    "    'name': 'composite_formal_ig_practises',\n",
    "    'features': {\n",
    "        'dummy_pp_legislation_complied_with_standard': {\n",
    "            'type': 'binary',\n",
    "            'best_value': 0,\n",
    "        },\n",
    "        'pp_third_party_sharing': {\n",
    "            'type': 'binary',\n",
    "            'best_value': 0,\n",
    "        },\n",
    "        'pp_existence_of_a_data_protection_officer': {\n",
    "            'type': 'binary',\n",
    "            'best_value': 1,\n",
    "        },\n",
    "        'pp_iso_type': {\n",
    "            'type': 'binary',\n",
    "            'best_value': 1,\n",
    "        },\n",
    "    }\n",
    "}\n",
    "\n",
    "dummy_columns = ['pp_legislation_complied_with', 'sector']\n",
    "\n",
    "initial_model_columns = [\n",
    "    'reputation_score_2020',\n",
    "    'composite_relational_ig_practises',\n",
    "    'composite_formal_ig_practises',\n",
    "    'return_on_assets',\n",
    "    'n_employees',\n",
    "    'csr_index',\n",
    "    'n_data_breaches',\n",
    "    'age_in_years',\n",
    "]\n",
    "\n",
    "fixed_model_columns = [\n",
    "    'firmhash',\n",
    "    'firm',\n",
    "    'sector',\n",
    "]\n",
    "    \n",
    "fixed_dummy_columns = [\n",
    "    'dummy_sector_Health Care',\n",
    "    'dummy_sector_Technology',\n",
    "    'dummy_sector_Media',\n",
    "    'dummy_sector_Energy',\n",
    "    'dummy_sector_Financials',\n",
    "    'dummy_sector_Retailing',\n",
    "    'dummy_sector_Industrials',\n",
    "    'dummy_sector_Business Services',\n",
    "    'dummy_sector_Household Products',\n",
    "    'dummy_sector_Transportation',\n",
    "    'dummy_sector_Telecommunications',\n",
    "]"
   ]
  },
  {
   "cell_type": "code",
   "execution_count": null,
   "id": "chief-latex",
   "metadata": {},
   "outputs": [],
   "source": [
    "dfraw = pd.read_csv('../data/modelinput/information_governance_full_dataset.csv')"
   ]
  },
  {
   "cell_type": "code",
   "execution_count": null,
   "id": "unavailable-parker",
   "metadata": {},
   "outputs": [],
   "source": [
    "len(dfraw)"
   ]
  },
  {
   "cell_type": "code",
   "execution_count": null,
   "id": "efficient-detector",
   "metadata": {},
   "outputs": [],
   "source": [
    "waterfall_on_selection = {}\n",
    "\n",
    "waterfall_on_selection['Raw sample'] = dfraw['firmhash'].nunique()\n",
    "\n",
    "dffiltering = common._filter_out_nulls(dfraw, isnull_columns)\n",
    "df_clean = common._filter_on_mins(dffiltering, min_columns)\n",
    "\n",
    "df_clean = features.create_dummies(df_clean, dummy_columns)"
   ]
  },
  {
   "cell_type": "code",
   "execution_count": null,
   "id": "appointed-thousand",
   "metadata": {},
   "outputs": [],
   "source": [
    "if df_clean['firmhash'].nunique() == len(df_clean):\n",
    "    print(f'n firms final sample: {len(df_clean)}')\n",
    "else:\n",
    "    print('check duplicates!')"
   ]
  },
  {
   "cell_type": "code",
   "execution_count": null,
   "id": "driving-yesterday",
   "metadata": {},
   "outputs": [],
   "source": [
    "df_clean = features.create_composite_variable(df_clean, ig_feature_relational_practises, method='minmax')\n",
    "df_clean = features.create_composite_variable(df_clean, ig_feature_formal_practises, method='minmax')"
   ]
  },
  {
   "cell_type": "code",
   "execution_count": null,
   "id": "anticipated-reporter",
   "metadata": {},
   "outputs": [],
   "source": [
    "df_clean['young_firm'] = 0\n",
    "df_clean.loc[lambda x: x['age_in_years']<=x['age_in_years'].median(), 'young_firm'] = 1\n",
    "print(f'Median firm age: {round(df_clean[\"age_in_years\"].median(), 5)}')"
   ]
  },
  {
   "cell_type": "code",
   "execution_count": null,
   "id": "motivated-dynamics",
   "metadata": {},
   "outputs": [],
   "source": [
    "final_model_columns = []\n",
    "min_skew = -1\n",
    "max_skew = 1\n",
    "for c in initial_model_columns:\n",
    "    print('==>')\n",
    "    \n",
    "    if len(df_clean[c].unique()) > 2:\n",
    "        \n",
    "        include_col = c\n",
    "        datacheckresult = features.data_checks(df_clean, c, print_results=True)\n",
    "\n",
    "        if datacheckresult['skew'] <= min_skew or datacheckresult['skew'] >= max_skew:\n",
    "            if df_clean[c].min() <= 0:\n",
    "                include_col = f'logmin_{c}'\n",
    "                df_clean[include_col] = features.log_transform(df_clean[c].values, lowest_value_before_transform=1)\n",
    "                datacheckresult = features.data_checks(df_clean, include_col, print_results=True)\n",
    "            else:\n",
    "                include_col = f'log_{c}'\n",
    "                df_clean[include_col] = features.log_transform(df_clean[c].values)\n",
    "                datacheckresult = features.data_checks(df_clean, include_col, print_results=True)\n",
    "                \n",
    "        if datacheckresult['skew'] <= min_skew or datacheckresult['skew'] >= max_skew:\n",
    "            if df_clean[c].min() >= 0:\n",
    "                include_col = f'sqrt_{c}'\n",
    "                df_clean[include_col] = features.sqrt_transform(df_clean[c].values)\n",
    "                datacheckresult = features.data_checks(df_clean, include_col, print_results=True)\n",
    "                \n",
    "    if datacheckresult['skew'] > min_skew and datacheckresult['skew'] < max_skew:\n",
    "        final_model_columns.append(include_col)\n",
    "    else:\n",
    "        print(f'Not included: {c}')"
   ]
  },
  {
   "cell_type": "code",
   "execution_count": null,
   "id": "sixth-enclosure",
   "metadata": {},
   "outputs": [],
   "source": [
    "output_col = [*fixed_model_columns, *final_model_columns, *fixed_dummy_columns, *['young_firm']]\n",
    "df_clean[output_col].to_csv('../data/modelinput/information_governance_clean_dataset.csv',\n",
    "                            index=False,\n",
    "                            quoting=csv.QUOTE_NONNUMERIC,\n",
    "                            quotechar='\"')\n",
    "\n",
    "waterfall_on_selection['With other variables available'] = df_clean['firmhash'].nunique()"
   ]
  }
 ],
 "metadata": {
  "kernelspec": {
   "display_name": "Python 3",
   "language": "python",
   "name": "python3"
  },
  "language_info": {
   "codemirror_mode": {
    "name": "ipython",
    "version": 3
   },
   "file_extension": ".py",
   "mimetype": "text/x-python",
   "name": "python",
   "nbconvert_exporter": "python",
   "pygments_lexer": "ipython3",
   "version": "3.8.9"
  }
 },
 "nbformat": 4,
 "nbformat_minor": 5
}
