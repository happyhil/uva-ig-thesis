{
 "cells": [
  {
   "cell_type": "code",
   "execution_count": 1,
   "id": "wanted-mandate",
   "metadata": {},
   "outputs": [],
   "source": [
    "import csv\n",
    "import pandas as pd\n",
    "from src import common, features"
   ]
  },
  {
   "cell_type": "code",
   "execution_count": 2,
   "id": "grave-convert",
   "metadata": {},
   "outputs": [],
   "source": [
    "isnull_columns = [\n",
    "    'reputation_score_2020',\n",
    "    'revenue_in_millions',\n",
    "    'profits_in_millions',\n",
    "    'age_in_years',\n",
    "    'return_on_assets',\n",
    "    'csr_index',\n",
    "]\n",
    "\n",
    "min_columns = {\n",
    "    'pp_privacy_policy_exists': 1,\n",
    "    'pp_n_sentence': 1,\n",
    "    'n_employees': 1,\n",
    "    'csr_index_last_available_year': 2017,\n",
    "}\n",
    "\n",
    "ig_feature_relational_practises = {\n",
    "    'name': 'composite_relational_ig_practises',\n",
    "    'features': {\n",
    "        'pp_ambiquity_score': {\n",
    "            'type': 'continues',\n",
    "            'best_value': 0,\n",
    "        },\n",
    "        'pp_gunning_fog_index': {\n",
    "            'type': 'continues',\n",
    "            'best_value': 0,\n",
    "        },\n",
    "        'pp_contact_option': {\n",
    "            'type': 'binary',\n",
    "            'best_value': 1,\n",
    "        },\n",
    "        'pp_existence_of_a_transparency_report': {\n",
    "            'type': 'binary',\n",
    "            'best_value': 1,\n",
    "        },\n",
    "    }\n",
    "}\n",
    "\n",
    "ig_feature_formal_practises = {\n",
    "    'name': 'composite_formal_ig_practises',\n",
    "    'features': {\n",
    "        'dummy_pp_legislation_complied_with_standard': {\n",
    "            'type': 'binary',\n",
    "            'best_value': 0,\n",
    "        },\n",
    "        'pp_third_party_sharing': {\n",
    "            'type': 'binary',\n",
    "            'best_value': 0,\n",
    "        },\n",
    "        'pp_existence_of_a_data_protection_officer': {\n",
    "            'type': 'binary',\n",
    "            'best_value': 1,\n",
    "        },\n",
    "        'pp_iso_type': {\n",
    "            'type': 'binary',\n",
    "            'best_value': 1,\n",
    "        },\n",
    "    }\n",
    "}\n",
    "\n",
    "dummy_columns = ['pp_legislation_complied_with', 'sector']\n",
    "\n",
    "initial_model_columns = [\n",
    "    'reputation_score_2020',\n",
    "    'composite_relational_ig_practises',\n",
    "    'composite_formal_ig_practises',\n",
    "    'return_on_assets',\n",
    "    'n_employees',\n",
    "    'csr_index',\n",
    "    'n_data_breaches',\n",
    "    'age_in_years',\n",
    "]\n",
    "\n",
    "fixed_model_columns = [\n",
    "    'firmhash',\n",
    "    'firm',\n",
    "    'sector',\n",
    "]\n",
    "    \n",
    "fixed_dummy_columns = [\n",
    "    'dummy_sector_Health Care',\n",
    "    'dummy_sector_Technology',\n",
    "    'dummy_sector_Media',\n",
    "    'dummy_sector_Energy',\n",
    "    'dummy_sector_Financials',\n",
    "    'dummy_sector_Retailing',\n",
    "    'dummy_sector_Industrials',\n",
    "    'dummy_sector_Business Services',\n",
    "    'dummy_sector_Household Products',\n",
    "    'dummy_sector_Transportation',\n",
    "    'dummy_sector_Telecommunications',\n",
    "]"
   ]
  },
  {
   "cell_type": "code",
   "execution_count": 3,
   "id": "tender-worship",
   "metadata": {},
   "outputs": [],
   "source": [
    "dfraw = pd.read_csv('../data/modelinput/information_governance_full_dataset.csv')"
   ]
  },
  {
   "cell_type": "code",
   "execution_count": 4,
   "id": "humanitarian-somalia",
   "metadata": {},
   "outputs": [
    {
     "name": "stdout",
     "output_type": "stream",
     "text": [
      "reputation_score_2020: 99 rows are filtered out\n",
      "revenue_in_millions: 0 rows are filtered out\n",
      "profits_in_millions: 0 rows are filtered out\n",
      "age_in_years: 7 rows are filtered out\n",
      "return_on_assets: 3 rows are filtered out\n",
      "csr_index: 0 rows are filtered out\n",
      "pp_privacy_policy_exists: 2 rows are filtered out\n",
      "pp_n_sentence: 1 rows are filtered out\n",
      "n_employees: 0 rows are filtered out\n",
      "csr_index_last_available_year: 0 rows are filtered out\n"
     ]
    }
   ],
   "source": [
    "waterfall_on_selection = {}\n",
    "\n",
    "waterfall_on_selection['Raw sample'] = dfraw['firmhash'].nunique()\n",
    "\n",
    "dffiltering = common._filter_out_nulls(dfraw, isnull_columns)\n",
    "df_clean = common._filter_on_mins(dffiltering, min_columns)\n",
    "\n",
    "df_clean = features.create_dummies(df_clean, dummy_columns)"
   ]
  },
  {
   "cell_type": "code",
   "execution_count": 5,
   "id": "logical-fundamental",
   "metadata": {},
   "outputs": [],
   "source": [
    "df_clean = features.create_composite_variable(df_clean, ig_feature_relational_practises, method='minmax')\n",
    "df_clean = features.create_composite_variable(df_clean, ig_feature_formal_practises, method='minmax')"
   ]
  },
  {
   "cell_type": "code",
   "execution_count": 8,
   "id": "nasty-magnitude",
   "metadata": {},
   "outputs": [],
   "source": [
    "df_clean['young_firm'] = 0\n",
    "df_clean.loc[lambda x: x['age_in_years']<=x['age_in_years'].median(), 'young_firm'] = 1"
   ]
  },
  {
   "cell_type": "code",
   "execution_count": 11,
   "id": "strong-handle",
   "metadata": {},
   "outputs": [
    {
     "name": "stdout",
     "output_type": "stream",
     "text": [
      "==>\n",
      "reputation_score_2020: mean = 6.73; std = 0.64; kurtosis = 0.28; skew = 0.36; p value normal test = 0.188\n",
      "==>\n",
      "composite_relational_ig_practises: mean = 0.47; std = 0.11; kurtosis = 2.4; skew = 0.73; p value normal test = 0.0***\n",
      "==>\n",
      "composite_formal_ig_practises: mean = 0.33; std = 0.18; kurtosis = -0.26; skew = 0.09; p value normal test = 0.852\n",
      "==>\n",
      "return_on_assets: mean = 0.05; std = 0.05; kurtosis = 0.96; skew = 0.15; p value normal test = 0.125\n",
      "==>\n",
      "n_employees: mean = 115950.83; std = 237868.43; kurtosis = 53.09; skew = 6.76; p value normal test = 0.0***\n",
      "log_n_employees: mean = 11.01; std = 1.04; kurtosis = 0.58; skew = 0.46; p value normal test = 0.048*\n",
      "==>\n",
      "csr_index: mean = 0.04; std = 0.03; kurtosis = 0.62; skew = 0.56; p value normal test = 0.018*\n",
      "==>\n",
      "n_data_breaches: mean = 1.34; std = 2.06; kurtosis = 4.39; skew = 2.13; p value normal test = 0.0***\n",
      "logmin_n_data_breaches: mean = 0.58; std = 0.68; kurtosis = -0.28; skew = 0.86; p value normal test = 0.002**\n",
      "==>\n",
      "age_in_years: mean = 49.71; std = 37.66; kurtosis = 1.05; skew = 1.25; p value normal test = 0.0***\n",
      "log_age_in_years: mean = 3.59; std = 0.92; kurtosis = 5.42; skew = -1.47; p value normal test = 0.0***\n",
      "sqrt_age_in_years: mean = 6.57; std = 2.57; kurtosis = -0.17; skew = 0.45; p value normal test = 0.14\n"
     ]
    }
   ],
   "source": [
    "final_model_columns = []\n",
    "min_skew = -1\n",
    "max_skew = 1\n",
    "for c in initial_model_columns:\n",
    "    print('==>')\n",
    "    \n",
    "    if len(df_clean[c].unique()) > 2:\n",
    "        \n",
    "        include_col = c\n",
    "        datacheckresult = features.data_checks(df_clean, c, print_results=True)\n",
    "\n",
    "        if datacheckresult['skew'] <= min_skew or datacheckresult['skew'] >= max_skew:\n",
    "            if df_clean[c].min() <= 0:\n",
    "                include_col = f'logmin_{c}'\n",
    "                df_clean[include_col] = features.log_transform(df_clean[c].values, lowest_value_before_transform=1)\n",
    "                datacheckresult = features.data_checks(df_clean, include_col, print_results=True)\n",
    "            else:\n",
    "                include_col = f'log_{c}'\n",
    "                df_clean[include_col] = features.log_transform(df_clean[c].values)\n",
    "                datacheckresult = features.data_checks(df_clean, include_col, print_results=True)\n",
    "                \n",
    "        if datacheckresult['skew'] <= min_skew or datacheckresult['skew'] >= max_skew:\n",
    "            if df_clean[c].min() >= 0:\n",
    "                include_col = f'sqrt_{c}'\n",
    "                df_clean[include_col] = features.sqrt_transform(df_clean[c].values)\n",
    "                datacheckresult = features.data_checks(df_clean, include_col, print_results=True)\n",
    "                \n",
    "    if datacheckresult['skew'] > min_skew and datacheckresult['skew'] < max_skew:\n",
    "        final_model_columns.append(include_col)\n",
    "    else:\n",
    "        print(f'Not included: {c}')"
   ]
  },
  {
   "cell_type": "code",
   "execution_count": 12,
   "id": "functional-marketplace",
   "metadata": {},
   "outputs": [],
   "source": [
    "output_col = [*fixed_model_columns, *final_model_columns, *fixed_dummy_columns, *['young_firm']]\n",
    "df_clean[output_col].to_csv('../data/modelinput/information_governance_clean_dataset.csv',\n",
    "                            index=False,\n",
    "                            quoting=csv.QUOTE_NONNUMERIC,\n",
    "                            quotechar='\"')\n",
    "\n",
    "waterfall_on_selection['With other variables available'] = df_clean['firmhash'].nunique()"
   ]
  }
 ],
 "metadata": {
  "kernelspec": {
   "display_name": "Python 3",
   "language": "python",
   "name": "python3"
  },
  "language_info": {
   "codemirror_mode": {
    "name": "ipython",
    "version": 3
   },
   "file_extension": ".py",
   "mimetype": "text/x-python",
   "name": "python",
   "nbconvert_exporter": "python",
   "pygments_lexer": "ipython3",
   "version": "3.8.9"
  }
 },
 "nbformat": 4,
 "nbformat_minor": 5
}
