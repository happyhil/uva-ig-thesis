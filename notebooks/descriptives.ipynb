{
 "cells": [
  {
   "cell_type": "code",
   "execution_count": null,
   "id": "short-serial",
   "metadata": {},
   "outputs": [],
   "source": [
    "import csv\n",
    "import pandas as pd\n",
    "import seaborn as sns\n",
    "from scipy import stats\n",
    "import matplotlib\n",
    "import matplotlib.pyplot as plt\n",
    "plt.style.use(\"ggplot\")\n",
    "plt.rcParams[\"figure.figsize\"] = [12, 8]"
   ]
  },
  {
   "cell_type": "code",
   "execution_count": null,
   "id": "sound-allah",
   "metadata": {},
   "outputs": [],
   "source": [
    "isnull_columns = [\n",
    "    'revenue_in_millions',\n",
    "    'profits_in_millions',\n",
    "    'age_in_years',\n",
    "    'return_on_assets',\n",
    "    'overall_employer_rating'\n",
    "]\n",
    "\n",
    "min_columns = {\n",
    "    'pp_n_sentence': 1,\n",
    "    'n_employees': 0\n",
    "}\n",
    "\n",
    "dummy_columns = ['pp_legislation_complied_with']\n",
    "\n",
    "corr_columns = [\n",
    "    'revenue_in_millions',\n",
    "    'profits_in_millions',\n",
    "    'return_on_assets',\n",
    "    'n_employees',\n",
    "    'age_in_years',\n",
    "    'pp_n_sentence',\n",
    "    'pp_number_of_words',\n",
    "    'pp_number_of_unique_words',\n",
    "    'pp_existence_of_a_transparency_report',\n",
    "    'pp_contact_option',\n",
    "    'dummy_pp_legislation_complied_with_standard',\n",
    "    'dummy_pp_legislation_complied_with_ccpa',\n",
    "    'dummy_pp_legislation_complied_with_gdpr',\n",
    "    'pp_third_party_sharing',\n",
    "    'pp_existence_of_a_data_protection_officer',\n",
    "    'pp_iso_type',\n",
    "    'pp_ambiquity_score',\n",
    "    'pp_gunning_fog_index',\n",
    "    'n_data_breaches',\n",
    "    'overall_employer_rating',\n",
    "    'reputation_score_2020',\n",
    "    'reputation_score_2019',\n",
    "    'reputation_score_growth',\n",
    "]\n",
    "\n",
    "def _filter_out_nulls(dataf, filterlist):\n",
    "    \"\"\"\"\"\"\n",
    "    \n",
    "    for c in filterlist:\n",
    "        n_rows_before = len(dataf)\n",
    "        dataf = dataf.loc[lambda x: ~x[c].isnull()]\n",
    "        dataf = dataf.loc[lambda x: x[c]!=0]\n",
    "        n_rows_filtered = n_rows_before - len(dataf)\n",
    "        print(f'{c}: {n_rows_filtered} rows are filtered out')\n",
    "        \n",
    "    return dataf\n",
    "\n",
    "def _filter_on_mins(dataf, filterdict):\n",
    "    \"\"\"\"\"\"\n",
    "    \n",
    "    for k, v in min_columns.items():\n",
    "        n_rows_before = len(dataf)\n",
    "        dataf = dataf.loc[lambda x: ~x[k].isnull()]\n",
    "        dataf = dataf.loc[lambda x: x[k]>v]\n",
    "        n_rows_filtered = n_rows_before - len(dataf)\n",
    "        print(f'{k}: {n_rows_filtered} rows are filtered out')\n",
    "        \n",
    "    return dataf\n",
    "\n",
    "def create_dummies(dataf, columns):\n",
    "    \"\"\"\"\"\"\n",
    "    \n",
    "    for c in columns:\n",
    "        for d in dataf[c].unique():\n",
    "            dataf[f'dummy_{c}_{d}'] = 0\n",
    "            dataf.loc[lambda x: x[c].isnull(), f'dummy_{c}_{d}'] = None\n",
    "            dataf.loc[lambda x: x[c]==d, f'dummy_{c}_{d}'] = 1\n",
    "            \n",
    "    return dataf"
   ]
  },
  {
   "cell_type": "code",
   "execution_count": null,
   "id": "asian-kruger",
   "metadata": {},
   "outputs": [],
   "source": [
    "dfraw = pd.read_csv('../data/modelinput/information_governance_full_dataset.csv')"
   ]
  },
  {
   "cell_type": "code",
   "execution_count": null,
   "id": "vertical-european",
   "metadata": {},
   "outputs": [],
   "source": [
    "dfraw.dtypes"
   ]
  },
  {
   "cell_type": "code",
   "execution_count": null,
   "id": "worse-double",
   "metadata": {},
   "outputs": [],
   "source": [
    "waterfall_on_selection = {}\n",
    "\n",
    "waterfall_on_selection['n_firms_sample'] = dfraw['firmhash'].nunique()\n",
    "\n",
    "df1 = dfraw.loc[lambda x: ~x['reputation_score_2020'].isnull()]\n",
    "waterfall_on_selection['n_firms_reputation_2020'] = df1['firmhash'].nunique()\n",
    "\n",
    "df2 = df1.loc[lambda x: ~x['reputation_score_2019'].isnull()]\n",
    "waterfall_on_selection['n_firms_reputation_2019'] = df2['firmhash'].nunique()\n",
    "\n",
    "df3 = df2.loc[lambda x: x['pp_privacy_policy_exists']==1]\n",
    "waterfall_on_selection['n_firms_pp_existence'] = df3['firmhash'].nunique()\n",
    "\n",
    "df4 = _filter_out_nulls(df3, isnull_columns)\n",
    "df_clean = _filter_on_mins(df4, min_columns)\n",
    "\n",
    "df_clean = create_dummies(df_clean, dummy_columns)\n",
    "\n",
    "df_clean.to_csv('../data/modelinput/information_governance_clean_dataset.csv',\n",
    "                index=False,\n",
    "                quoting=csv.QUOTE_NONNUMERIC,\n",
    "                quotechar='\"')\n",
    "\n",
    "waterfall_on_selection['n_firms_others_checked'] = df_clean['firmhash'].nunique()\n",
    "\n",
    "waterfall_on_selection"
   ]
  },
  {
   "cell_type": "code",
   "execution_count": null,
   "id": "empirical-drill",
   "metadata": {},
   "outputs": [],
   "source": [
    "plt.bar(waterfall_on_selection.keys(), waterfall_on_selection.values(), color='#333')\n",
    "plt.xticks(rotation=90)\n",
    "plt.show()"
   ]
  },
  {
   "cell_type": "code",
   "execution_count": null,
   "id": "ordinary-certificate",
   "metadata": {},
   "outputs": [],
   "source": [
    "# df4.loc[lambda x: x['pp_n_sentence']<1000][['pp_n_sentence']].boxplot()\n",
    "df_clean[['pp_n_sentence']].boxplot(vert=False)"
   ]
  },
  {
   "cell_type": "code",
   "execution_count": null,
   "id": "formed-error",
   "metadata": {},
   "outputs": [],
   "source": [
    "# df4.loc[lambda x: x['pp_number_of_words']<20000][['pp_number_of_words']].boxplot(vert=False)\n",
    "df_clean[['pp_number_of_words']].boxplot(vert=False)"
   ]
  },
  {
   "cell_type": "code",
   "execution_count": null,
   "id": "divine-switzerland",
   "metadata": {},
   "outputs": [],
   "source": [
    "for c in corr_columns:\n",
    "    if len(df_clean[c].unique()) > 2:\n",
    "        mean = round(df_clean[c].mean(), 2)\n",
    "        std = round(df_clean[c].std(), 2)\n",
    "        print(f'{c}: mean = {mean}; std = {std}')"
   ]
  },
  {
   "cell_type": "code",
   "execution_count": null,
   "id": "light-messenger",
   "metadata": {},
   "outputs": [],
   "source": [
    "for c in corr_columns:\n",
    "    if len(df_clean[c].unique()) == 2:\n",
    "        print(df_clean.groupby(c)['firm'].count())"
   ]
  },
  {
   "cell_type": "code",
   "execution_count": null,
   "id": "tough-gather",
   "metadata": {},
   "outputs": [],
   "source": [
    "plt.rcParams[\"figure.figsize\"] = [20, 8]\n",
    "heatmap = sns.heatmap(df_clean[corr_columns].corr(), vmin=-1, vmax=1, annot=True)\n",
    "heatmap.set_title('Correlation Heatmap', fontdict={'fontsize':12}, pad=12);"
   ]
  },
  {
   "cell_type": "code",
   "execution_count": null,
   "id": "moderate-photography",
   "metadata": {},
   "outputs": [],
   "source": [
    "for c in corr_columns:\n",
    "    result = stats.pearsonr(df_clean[c], df_clean['reputation_score_2020'])\n",
    "    if result[1] <= 0.001:\n",
    "        sig = '***'\n",
    "    elif result[1] <= 0.01:\n",
    "        sig = '**'\n",
    "    elif result[1] <= 0.05:\n",
    "        sig = '*'\n",
    "    else:\n",
    "        sig = ''\n",
    "    print(f'{c} --> reputation_score_2020 => pearsonr coefficient: {round(result[0], 3)}{sig}; p = {round(result[1], 3)}')"
   ]
  }
 ],
 "metadata": {
  "kernelspec": {
   "display_name": "Python 3",
   "language": "python",
   "name": "python3"
  },
  "language_info": {
   "codemirror_mode": {
    "name": "ipython",
    "version": 3
   },
   "file_extension": ".py",
   "mimetype": "text/x-python",
   "name": "python",
   "nbconvert_exporter": "python",
   "pygments_lexer": "ipython3",
   "version": "3.8.8"
  }
 },
 "nbformat": 4,
 "nbformat_minor": 5
}
