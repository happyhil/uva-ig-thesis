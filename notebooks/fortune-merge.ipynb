{
 "cells": [
  {
   "cell_type": "code",
   "execution_count": 11,
   "id": "portuguese-algorithm",
   "metadata": {},
   "outputs": [],
   "source": [
    "import json\n",
    "import pandas as pd\n",
    "import csv\n",
    "from src import common"
   ]
  },
  {
   "cell_type": "code",
   "execution_count": 12,
   "id": "configured-buyer",
   "metadata": {},
   "outputs": [],
   "source": [
    "with open('../data/fortune/f500_ranking_2020.json', 'r') as s:\n",
    "    rankings = json.load(s)\n",
    "\n",
    "with open('../data/fortune/f500_company_sectors.json', 'r') as s:\n",
    "    sectors = json.load(s)\n",
    "\n",
    "with open('../data/fortune/f500_reputation_2020.json', 'r') as s:\n",
    "    reputations2020 = json.load(s)\n",
    "    \n",
    "with open('../data/fortune/f500_reputation_2019.json', 'r') as s:\n",
    "    reputations2019 = json.load(s)\n",
    "\n",
    "companies = []\n",
    "urls = []\n",
    "ranks = []\n",
    "industries = []\n",
    "metrics = []\n",
    "for k, v in rankings.items():\n",
    "    companies.append(k)\n",
    "    urls.append(v['Website'])\n",
    "    ranks.append(v['Rank'])\n",
    "    industries.append(v['Industry'])\n",
    "    row = []\n",
    "    for m in ['Revenues ($M)', 'Profits ($M)', 'Market Value ($M)', 'Employees']:\n",
    "        try:\n",
    "            before_decimal = int(''.join(filter(str.isdigit, v[m].split('.')[0])))\n",
    "            try:\n",
    "                after_decimal = int(''.join(filter(str.isdigit, v[m].split('.')[1]))) / 10\n",
    "            except:\n",
    "                after_decimal = 0\n",
    "            total = before_decimal + after_decimal\n",
    "        except:\n",
    "            total = None\n",
    "        row.append(total)\n",
    "    metrics.append(row)\n",
    "        \n",
    "\n",
    "dfcompany = pd.DataFrame({\n",
    "    'firm': companies,\n",
    "    'url': urls,\n",
    "    'ranking': ranks,\n",
    "    'industry': industries,\n",
    "    'revenue_in_millions': [x[0] for x in metrics],\n",
    "    'profits_in_millions': [x[1] for x in metrics],\n",
    "    'market_value_in_millions': [x[2] for x in metrics],\n",
    "    'n_employees': [x[3] for x in metrics],\n",
    "})\n",
    "\n",
    "\n",
    "companies = []\n",
    "ranks = []\n",
    "secs = []\n",
    "for k, v in sectors.items():\n",
    "    for subk, subv in v.items(): \n",
    "        secs.append(k)\n",
    "        companies.append(subv)\n",
    "        ranks.append(subk)\n",
    "\n",
    "dfsector = pd.DataFrame({\n",
    "    'sector': secs,\n",
    "    'firm': companies,\n",
    "    'ranking': ranks\n",
    "}) \n",
    "\n",
    "companies = []\n",
    "scores = []\n",
    "for k, v in reputations2020.items():\n",
    "    if len(v) > 0:\n",
    "        companies.append(k)\n",
    "        scores.append(v['Overall Score'])\n",
    "dfreputation2020 = pd.DataFrame({\n",
    "    'firm': companies,\n",
    "    'reputation_score_2020': scores\n",
    "})\n",
    "\n",
    "companies = []\n",
    "scores = []\n",
    "for k, v in reputations2019.items():\n",
    "    if len(v) > 0:\n",
    "        companies.append(k)\n",
    "        scores.append(v['Overall Score'])\n",
    "dfreputation2019 = pd.DataFrame({\n",
    "    'firm': companies,\n",
    "    'reputation_score_2019': scores\n",
    "})\n",
    "\n",
    "dfreputation = dfreputation2020.merge(dfreputation2019, how='left', on='firm')"
   ]
  },
  {
   "cell_type": "code",
   "execution_count": 13,
   "id": "composite-begin",
   "metadata": {},
   "outputs": [],
   "source": [
    "dfcompany['ranking'] = dfcompany['ranking'].astype(int)\n",
    "dfsector['ranking'] = dfsector['ranking'].astype(int)\n",
    "\n",
    "dfcompany = dfcompany.merge(dfsector[['ranking', 'sector']], how='left')\n",
    "dfcompany = dfcompany.merge(dfreputation, on='firm', how='left')\n",
    "\n",
    "sectors_to_include = [\n",
    "    'Business Services',\n",
    "    'Financials',\n",
    "    'Energy',\n",
    "    'Retailing',\n",
    "    'Technology',\n",
    "    'Media',\n",
    "    'Health Care',\n",
    "    'Transportation',\n",
    "    'Industrials',\n",
    "    'Household Products',\n",
    "    'Telecommunications'\n",
    "]\n",
    "\n",
    "dfcompany['include'] = False\n",
    "dfcompany.loc[lambda x: x['sector'].isin(sectors_to_include), 'include'] = True\n",
    "\n",
    "dfcompany['ranklabel'] = '501-1000'\n",
    "dfcompany.loc[lambda x: x['ranking']<=500, 'ranklabel'] = '301-500'\n",
    "dfcompany.loc[lambda x: x['ranking']<=300, 'ranklabel'] = '201-300'\n",
    "dfcompany.loc[lambda x: x['ranking']<=200, 'ranklabel'] = '1-200'\n",
    "\n",
    "dfcompany = dfcompany.drop_duplicates(subset=['ranking'], keep='first') # to do: check those\n",
    "\n",
    "dfcompany['firmhash'] = [common.__hash(f) for f in dfcompany['firm'].values]"
   ]
  },
  {
   "cell_type": "code",
   "execution_count": 14,
   "id": "exciting-death",
   "metadata": {},
   "outputs": [
    {
     "data": {
      "text/plain": [
       "Index(['firm', 'url', 'ranking', 'industry', 'revenue_in_millions',\n",
       "       'profits_in_millions', 'market_value_in_millions', 'n_employees',\n",
       "       'sector', 'reputation_score_2020', 'reputation_score_2019', 'include',\n",
       "       'ranklabel', 'firmhash'],\n",
       "      dtype='object')"
      ]
     },
     "execution_count": 14,
     "metadata": {},
     "output_type": "execute_result"
    }
   ],
   "source": [
    "dfcompany.columns"
   ]
  },
  {
   "cell_type": "code",
   "execution_count": 15,
   "id": "complimentary-librarian",
   "metadata": {},
   "outputs": [],
   "source": [
    "output_columns_sample = [\n",
    "    'firmhash',\n",
    "    'firm',\n",
    "    'url',\n",
    "    'ranking',\n",
    "    'industry',\n",
    "    'sector',\n",
    "    'include',\n",
    "    'ranklabel',\n",
    "]\n",
    "output_columns_all = [\n",
    "    'firmhash',\n",
    "    'firm',\n",
    "    'url',\n",
    "    'ranking',\n",
    "    'industry',\n",
    "    'sector',\n",
    "    'revenue_in_millions',\n",
    "    'profits_in_millions',\n",
    "    'market_value_in_millions',\n",
    "    'n_employees',\n",
    "    'reputation_score_2020',\n",
    "    'reputation_score_2019',\n",
    "    'include',\n",
    "    'ranklabel',\n",
    "]"
   ]
  },
  {
   "cell_type": "code",
   "execution_count": 16,
   "id": "widespread-struggle",
   "metadata": {},
   "outputs": [],
   "source": [
    "if True:\n",
    "    dfcompany[output_columns_sample].to_csv('../data/fortune/f500_firm_sample.csv', index=False, quoting=csv.QUOTE_NONNUMERIC, quotechar='\"')\n",
    "    dfcompany[output_columns_all].to_csv('../data/fortune/f500_full_firm_data.csv', index=False, quoting=csv.QUOTE_NONNUMERIC, quotechar='\"')"
   ]
  },
  {
   "cell_type": "markdown",
   "id": "varied-action",
   "metadata": {},
   "source": [
    "## check numbers"
   ]
  },
  {
   "cell_type": "code",
   "execution_count": 21,
   "id": "composite-proof",
   "metadata": {},
   "outputs": [
    {
     "data": {
      "text/plain": [
       "115"
      ]
     },
     "execution_count": 21,
     "metadata": {},
     "output_type": "execute_result"
    }
   ],
   "source": [
    "len(dfcompany.loc[lambda x: (x['ranking']<=300) & (x['include']==True) & (~x['reputation_score_2020'].isnull()) & (~x['reputation_score_2019'].isnull())])"
   ]
  },
  {
   "cell_type": "code",
   "execution_count": 22,
   "id": "productive-wildlife",
   "metadata": {},
   "outputs": [],
   "source": [
    "samplecount_per_industry = dfcompany.loc[lambda x: (x['ranking']<=300) & (x['include']==True) & (~x['reputation_score_2020'].isnull()) & (~x['reputation_score_2019'].isnull())].groupby(['sector'])[['firm']].count()"
   ]
  },
  {
   "cell_type": "code",
   "execution_count": 23,
   "id": "demanding-graph",
   "metadata": {},
   "outputs": [
    {
     "data": {
      "text/plain": [
       "115"
      ]
     },
     "execution_count": 23,
     "metadata": {},
     "output_type": "execute_result"
    }
   ],
   "source": [
    "samplecount_per_industry['firm'].sum()"
   ]
  },
  {
   "cell_type": "code",
   "execution_count": 24,
   "id": "weighted-space",
   "metadata": {},
   "outputs": [
    {
     "data": {
      "text/html": [
       "<div>\n",
       "<style scoped>\n",
       "    .dataframe tbody tr th:only-of-type {\n",
       "        vertical-align: middle;\n",
       "    }\n",
       "\n",
       "    .dataframe tbody tr th {\n",
       "        vertical-align: top;\n",
       "    }\n",
       "\n",
       "    .dataframe thead th {\n",
       "        text-align: right;\n",
       "    }\n",
       "</style>\n",
       "<table border=\"1\" class=\"dataframe\">\n",
       "  <thead>\n",
       "    <tr style=\"text-align: right;\">\n",
       "      <th></th>\n",
       "      <th>firm</th>\n",
       "    </tr>\n",
       "    <tr>\n",
       "      <th>sector</th>\n",
       "      <th></th>\n",
       "    </tr>\n",
       "  </thead>\n",
       "  <tbody>\n",
       "    <tr>\n",
       "      <th>Financials</th>\n",
       "      <td>25</td>\n",
       "    </tr>\n",
       "    <tr>\n",
       "      <th>Health Care</th>\n",
       "      <td>22</td>\n",
       "    </tr>\n",
       "    <tr>\n",
       "      <th>Technology</th>\n",
       "      <td>18</td>\n",
       "    </tr>\n",
       "    <tr>\n",
       "      <th>Retailing</th>\n",
       "      <td>12</td>\n",
       "    </tr>\n",
       "    <tr>\n",
       "      <th>Energy</th>\n",
       "      <td>10</td>\n",
       "    </tr>\n",
       "    <tr>\n",
       "      <th>Transportation</th>\n",
       "      <td>7</td>\n",
       "    </tr>\n",
       "    <tr>\n",
       "      <th>Industrials</th>\n",
       "      <td>6</td>\n",
       "    </tr>\n",
       "    <tr>\n",
       "      <th>Business Services</th>\n",
       "      <td>5</td>\n",
       "    </tr>\n",
       "    <tr>\n",
       "      <th>Household Products</th>\n",
       "      <td>4</td>\n",
       "    </tr>\n",
       "    <tr>\n",
       "      <th>Media</th>\n",
       "      <td>4</td>\n",
       "    </tr>\n",
       "    <tr>\n",
       "      <th>Telecommunications</th>\n",
       "      <td>2</td>\n",
       "    </tr>\n",
       "  </tbody>\n",
       "</table>\n",
       "</div>"
      ],
      "text/plain": [
       "                    firm\n",
       "sector                  \n",
       "Financials            25\n",
       "Health Care           22\n",
       "Technology            18\n",
       "Retailing             12\n",
       "Energy                10\n",
       "Transportation         7\n",
       "Industrials            6\n",
       "Business Services      5\n",
       "Household Products     4\n",
       "Media                  4\n",
       "Telecommunications     2"
      ]
     },
     "execution_count": 24,
     "metadata": {},
     "output_type": "execute_result"
    }
   ],
   "source": [
    "samplecount_per_industry.sort_values('firm', ascending=False)"
   ]
  }
 ],
 "metadata": {
  "kernelspec": {
   "display_name": "Python 3",
   "language": "python",
   "name": "python3"
  },
  "language_info": {
   "codemirror_mode": {
    "name": "ipython",
    "version": 3
   },
   "file_extension": ".py",
   "mimetype": "text/x-python",
   "name": "python",
   "nbconvert_exporter": "python",
   "pygments_lexer": "ipython3",
   "version": "3.8.8"
  }
 },
 "nbformat": 4,
 "nbformat_minor": 5
}
