{
 "cells": [
  {
   "cell_type": "code",
   "execution_count": null,
   "id": "advance-universe",
   "metadata": {},
   "outputs": [],
   "source": [
    "import json\n",
    "import pandas as pd\n",
    "import csv"
   ]
  },
  {
   "cell_type": "code",
   "execution_count": null,
   "id": "micro-large",
   "metadata": {},
   "outputs": [],
   "source": [
    "with open('../data/f500_ranking_2020.json', 'r') as s:\n",
    "    rankings = json.load(s)\n",
    "\n",
    "with open('../data/f500_company_sectors.json', 'r') as s:\n",
    "    sectors = json.load(s)\n",
    "\n",
    "with open('../data/f500_reputation_2020.json', 'r') as s:\n",
    "    reputations = json.load(s)"
   ]
  },
  {
   "cell_type": "code",
   "execution_count": null,
   "id": "innocent-cruise",
   "metadata": {},
   "outputs": [],
   "source": [
    "companies = []\n",
    "urls = []\n",
    "ranks = []\n",
    "industries = []\n",
    "for k, v in rankings.items():\n",
    "    companies.append(k)\n",
    "    urls.append(v['Website'])\n",
    "    ranks.append(v['Rank'])\n",
    "    industries.append(v['Industry'])\n",
    "\n",
    "dfcompany = pd.DataFrame({\n",
    "    'firm': companies,\n",
    "    'url': urls,\n",
    "    'ranking': ranks,\n",
    "    'industry': industries\n",
    "}) "
   ]
  },
  {
   "cell_type": "code",
   "execution_count": null,
   "id": "proprietary-there",
   "metadata": {},
   "outputs": [],
   "source": [
    "companies = []\n",
    "ranks = []\n",
    "secs = []\n",
    "for k, v in sectors.items():\n",
    "    for subk, subv in v.items(): \n",
    "        secs.append(k)\n",
    "        companies.append(subv)\n",
    "        ranks.append(subk)\n",
    "\n",
    "dfsector = pd.DataFrame({\n",
    "    'sector': secs,\n",
    "    'firm': companies,\n",
    "    'ranking': ranks\n",
    "}) "
   ]
  },
  {
   "cell_type": "code",
   "execution_count": null,
   "id": "requested-fever",
   "metadata": {},
   "outputs": [],
   "source": [
    "companies = []\n",
    "scores = []\n",
    "for k, v in reputations.items():\n",
    "    companies.append(k)\n",
    "    scores.append(v['Overall Score'])\n",
    "dfreputation = pd.DataFrame({\n",
    "    'firm': companies,\n",
    "    'reputation_score': scores\n",
    "}) "
   ]
  },
  {
   "cell_type": "code",
   "execution_count": null,
   "id": "looking-tragedy",
   "metadata": {},
   "outputs": [],
   "source": [
    "dfcompany['ranking'] = dfcompany['ranking'].astype(int)\n",
    "dfsector['ranking'] = dfsector['ranking'].astype(int)"
   ]
  },
  {
   "cell_type": "code",
   "execution_count": null,
   "id": "emerging-edgar",
   "metadata": {},
   "outputs": [],
   "source": [
    "dfcompany = dfcompany.merge(dfsector[['ranking', 'sector']], how='left')\n",
    "dfcompany = dfcompany.merge(dfreputation, on='firm', how='left')"
   ]
  },
  {
   "cell_type": "code",
   "execution_count": null,
   "id": "consistent-shape",
   "metadata": {},
   "outputs": [],
   "source": [
    "sectors_to_include = [\n",
    "    'Business Services',\n",
    "    'Financials',\n",
    "    'Energy',\n",
    "    'Retailing',\n",
    "    'Technology',\n",
    "    'Media',\n",
    "    'Health Care',\n",
    "    'Transportation',\n",
    "    'Industrials',\n",
    "    'Household Products',\n",
    "    'Telecommunications'\n",
    "]"
   ]
  },
  {
   "cell_type": "code",
   "execution_count": null,
   "id": "pregnant-apache",
   "metadata": {},
   "outputs": [],
   "source": [
    "dfcompany['include'] = False\n",
    "dfcompany.loc[lambda x: x['sector'].isin(sectors_to_include), 'include'] = True"
   ]
  },
  {
   "cell_type": "code",
   "execution_count": null,
   "id": "plain-gamma",
   "metadata": {},
   "outputs": [],
   "source": [
    "dfcompany['ranklabel'] = '501-1000'\n",
    "dfcompany.loc[lambda x: x['ranking']<=500, 'ranklabel'] = '301-500'\n",
    "dfcompany.loc[lambda x: x['ranking']<=300, 'ranklabel'] = '201-300'\n",
    "dfcompany.loc[lambda x: x['ranking']<=200, 'ranklabel'] = '1-200'"
   ]
  },
  {
   "cell_type": "code",
   "execution_count": null,
   "id": "stuck-barrel",
   "metadata": {},
   "outputs": [],
   "source": [
    "dfcompany = dfcompany.drop_duplicates(subset=['ranking'], keep='first') # to do: check those"
   ]
  },
  {
   "cell_type": "code",
   "execution_count": null,
   "id": "internal-plaza",
   "metadata": {},
   "outputs": [],
   "source": [
    "dfcompany.to_csv('../data/f500_firm_sample.csv', index=False, quoting=csv.QUOTE_NONNUMERIC, quotechar='\"')"
   ]
  },
  {
   "cell_type": "markdown",
   "id": "copyrighted-nashville",
   "metadata": {},
   "source": [
    "## check numbers"
   ]
  },
  {
   "cell_type": "code",
   "execution_count": null,
   "id": "diverse-retirement",
   "metadata": {},
   "outputs": [],
   "source": [
    "len(dfcompany.loc[lambda x: (x['ranking']<=300) & (x['include']==True) & (~x['reputation_score'].isnull())])"
   ]
  },
  {
   "cell_type": "code",
   "execution_count": null,
   "id": "agreed-computer",
   "metadata": {},
   "outputs": [],
   "source": [
    "samplecount_per_industry = dfcompany.loc[lambda x: (x['ranking']<=300) & (x['include']==True)].groupby(['sector'])[['firm']].count()"
   ]
  },
  {
   "cell_type": "code",
   "execution_count": null,
   "id": "pregnant-community",
   "metadata": {},
   "outputs": [],
   "source": [
    "samplecount_per_industry['firm'].sum()"
   ]
  },
  {
   "cell_type": "code",
   "execution_count": null,
   "id": "flying-battle",
   "metadata": {},
   "outputs": [],
   "source": [
    "samplecount_per_industry.sort_values('firm', ascending=False)"
   ]
  }
 ],
 "metadata": {
  "kernelspec": {
   "display_name": "Python 3",
   "language": "python",
   "name": "python3"
  },
  "language_info": {
   "codemirror_mode": {
    "name": "ipython",
    "version": 3
   },
   "file_extension": ".py",
   "mimetype": "text/x-python",
   "name": "python",
   "nbconvert_exporter": "python",
   "pygments_lexer": "ipython3",
   "version": "3.8.8"
  }
 },
 "nbformat": 4,
 "nbformat_minor": 5
}
