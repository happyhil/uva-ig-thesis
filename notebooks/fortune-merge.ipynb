{
 "cells": [
  {
   "cell_type": "code",
   "execution_count": null,
   "id": "distinguished-passport",
   "metadata": {},
   "outputs": [],
   "source": [
    "import json\n",
    "import pandas as pd\n",
    "import csv\n",
    "from src import common"
   ]
  },
  {
   "cell_type": "code",
   "execution_count": null,
   "id": "august-norman",
   "metadata": {},
   "outputs": [],
   "source": [
    "with open('../data/fortune/f500_ranking_2020.json', 'r') as s:\n",
    "    rankings = json.load(s)\n",
    "\n",
    "with open('../data/fortune/f500_company_sectors.json', 'r') as s:\n",
    "    sectors = json.load(s)\n",
    "\n",
    "with open('../data/fortune/f500_reputation_2020.json', 'r') as s:\n",
    "    reputations = json.load(s)\n",
    "\n",
    "companies = []\n",
    "urls = []\n",
    "ranks = []\n",
    "industries = []\n",
    "for k, v in rankings.items():\n",
    "    companies.append(k)\n",
    "    urls.append(v['Website'])\n",
    "    ranks.append(v['Rank'])\n",
    "    industries.append(v['Industry'])\n",
    "\n",
    "dfcompany = pd.DataFrame({\n",
    "    'firm': companies,\n",
    "    'url': urls,\n",
    "    'ranking': ranks,\n",
    "    'industry': industries\n",
    "}) \n",
    "\n",
    "companies = []\n",
    "ranks = []\n",
    "secs = []\n",
    "for k, v in sectors.items():\n",
    "    for subk, subv in v.items(): \n",
    "        secs.append(k)\n",
    "        companies.append(subv)\n",
    "        ranks.append(subk)\n",
    "\n",
    "dfsector = pd.DataFrame({\n",
    "    'sector': secs,\n",
    "    'firm': companies,\n",
    "    'ranking': ranks\n",
    "}) \n",
    "\n",
    "companies = []\n",
    "scores = []\n",
    "for k, v in reputations.items():\n",
    "    companies.append(k)\n",
    "    scores.append(v['Overall Score'])\n",
    "dfreputation = pd.DataFrame({\n",
    "    'firm': companies,\n",
    "    'reputation_score': scores\n",
    "}) "
   ]
  },
  {
   "cell_type": "code",
   "execution_count": null,
   "id": "commercial-queens",
   "metadata": {},
   "outputs": [],
   "source": [
    "dfcompany['ranking'] = dfcompany['ranking'].astype(int)\n",
    "dfsector['ranking'] = dfsector['ranking'].astype(int)\n",
    "\n",
    "dfcompany = dfcompany.merge(dfsector[['ranking', 'sector']], how='left')\n",
    "dfcompany = dfcompany.merge(dfreputation, on='firm', how='left')\n",
    "\n",
    "sectors_to_include = [\n",
    "    'Business Services',\n",
    "    'Financials',\n",
    "    'Energy',\n",
    "    'Retailing',\n",
    "    'Technology',\n",
    "    'Media',\n",
    "    'Health Care',\n",
    "    'Transportation',\n",
    "    'Industrials',\n",
    "    'Household Products',\n",
    "    'Telecommunications'\n",
    "]\n",
    "\n",
    "dfcompany['include'] = False\n",
    "dfcompany.loc[lambda x: x['sector'].isin(sectors_to_include), 'include'] = True\n",
    "\n",
    "dfcompany['ranklabel'] = '501-1000'\n",
    "dfcompany.loc[lambda x: x['ranking']<=500, 'ranklabel'] = '301-500'\n",
    "dfcompany.loc[lambda x: x['ranking']<=300, 'ranklabel'] = '201-300'\n",
    "dfcompany.loc[lambda x: x['ranking']<=200, 'ranklabel'] = '1-200'\n",
    "\n",
    "dfcompany = dfcompany.drop_duplicates(subset=['ranking'], keep='first') # to do: check those\n",
    "\n",
    "dfcompany['firmhash'] = [common.__hash(f) for f in dfcompany['firm'].values]"
   ]
  },
  {
   "cell_type": "code",
   "execution_count": null,
   "id": "intermediate-prescription",
   "metadata": {},
   "outputs": [],
   "source": [
    "output_columns = [\n",
    "    'firmhash',\n",
    "    'firm',\n",
    "    'url',\n",
    "    'ranking',\n",
    "    'industry',\n",
    "    'sector',\n",
    "    'reputation_score',\n",
    "    'include',\n",
    "    'ranklabel',\n",
    "]"
   ]
  },
  {
   "cell_type": "code",
   "execution_count": null,
   "id": "julian-jackson",
   "metadata": {},
   "outputs": [],
   "source": [
    "if False:\n",
    "    dfcompany[output_columns].to_csv('../data/fortune/f500_firm_sample.csv', index=False, quoting=csv.QUOTE_NONNUMERIC, quotechar='\"')"
   ]
  },
  {
   "cell_type": "markdown",
   "id": "charming-specific",
   "metadata": {},
   "source": [
    "## check numbers"
   ]
  },
  {
   "cell_type": "code",
   "execution_count": null,
   "id": "sophisticated-diameter",
   "metadata": {},
   "outputs": [],
   "source": [
    "len(dfcompany.loc[lambda x: (x['ranking']<=300) & (x['include']==True) & (~x['reputation_score'].isnull())])"
   ]
  },
  {
   "cell_type": "code",
   "execution_count": null,
   "id": "lucky-tragedy",
   "metadata": {},
   "outputs": [],
   "source": [
    "samplecount_per_industry = dfcompany.loc[lambda x: (x['ranking']<=300) & (x['include']==True) & (~x['reputation_score'].isnull())].groupby(['sector'])[['firm']].count()"
   ]
  },
  {
   "cell_type": "code",
   "execution_count": null,
   "id": "pregnant-improvement",
   "metadata": {},
   "outputs": [],
   "source": [
    "samplecount_per_industry['firm'].sum()"
   ]
  },
  {
   "cell_type": "code",
   "execution_count": null,
   "id": "sticky-species",
   "metadata": {},
   "outputs": [],
   "source": [
    "samplecount_per_industry.sort_values('firm', ascending=False)"
   ]
  }
 ],
 "metadata": {
  "kernelspec": {
   "display_name": "Python 3",
   "language": "python",
   "name": "python3"
  },
  "language_info": {
   "codemirror_mode": {
    "name": "ipython",
    "version": 3
   },
   "file_extension": ".py",
   "mimetype": "text/x-python",
   "name": "python",
   "nbconvert_exporter": "python",
   "pygments_lexer": "ipython3",
   "version": "3.8.8"
  }
 },
 "nbformat": 4,
 "nbformat_minor": 5
}
