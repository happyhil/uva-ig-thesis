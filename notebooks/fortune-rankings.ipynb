{
 "cells": [
  {
   "cell_type": "code",
   "execution_count": null,
   "id": "swedish-flour",
   "metadata": {},
   "outputs": [],
   "source": [
    "import json\n",
    "import requests\n",
    "from bs4 import BeautifulSoup\n",
    "from selenium import webdriver\n",
    "from webdriver_manager.chrome import ChromeDriverManager"
   ]
  },
  {
   "cell_type": "markdown",
   "id": "documented-pizza",
   "metadata": {},
   "source": [
    "## get companies"
   ]
  },
  {
   "cell_type": "code",
   "execution_count": null,
   "id": "brutal-sentence",
   "metadata": {},
   "outputs": [],
   "source": [
    "driver = webdriver.Chrome(ChromeDriverManager().install())\n",
    "companies = []\n",
    "driver.get(\"https://fortune.com/worlds-most-admired-companies/2020/apple/\")\n",
    "companies.append(driver.current_url.split('/')[-2])\n",
    "for x in range(1, 1000):\n",
    "    button = driver.find_element_by_class_name('singlePagination__next2--3D89W')\n",
    "    button.click()\n",
    "    companies.append(driver.current_url.split('/')[-2])"
   ]
  },
  {
   "cell_type": "markdown",
   "id": "jewish-noise",
   "metadata": {},
   "source": [
    "## get data"
   ]
  },
  {
   "cell_type": "code",
   "execution_count": null,
   "id": "interstate-reputation",
   "metadata": {},
   "outputs": [],
   "source": [
    "baseurl = \"https://fortune.com/worlds-most-admired-companies/{}/{}/\"\n",
    "year = 2020\n",
    "companydict = {}\n",
    "for c in companies:\n",
    "    response = requests.get(baseurl.format(year, c))\n",
    "    soup = BeautifulSoup(response.content, 'html.parser')\n",
    "    soupmetrics = soup.find_all('tr')\n",
    "    metricdict = {}\n",
    "    for s in soupmetrics:\n",
    "        metricdict[s.find_all('td')[0].text] = s.find_all('td')[1].text\n",
    "    companydict[soup.find_all('title')[0].text.split(' |')[0]] = metricdict"
   ]
  },
  {
   "cell_type": "code",
   "execution_count": null,
   "id": "saved-crown",
   "metadata": {},
   "outputs": [],
   "source": [
    "with open('../data/f500_reputation_2020.json', 'w') as outfile:\n",
    "    json.dump(companydict, outfile)"
   ]
  },
  {
   "cell_type": "markdown",
   "id": "prescribed-potato",
   "metadata": {},
   "source": [
    "## to pandas"
   ]
  },
  {
   "cell_type": "code",
   "execution_count": null,
   "id": "invisible-mileage",
   "metadata": {},
   "outputs": [],
   "source": [
    "import csv\n",
    "import json\n",
    "import pandas as pd"
   ]
  },
  {
   "cell_type": "code",
   "execution_count": null,
   "id": "owned-pulse",
   "metadata": {},
   "outputs": [],
   "source": [
    "with open('../data/f500_reputation_2020.json', 'r') as infile:\n",
    "    companydict = json.load(infile)"
   ]
  },
  {
   "cell_type": "code",
   "execution_count": null,
   "id": "intensive-newark",
   "metadata": {},
   "outputs": [],
   "source": [
    "frames = []\n",
    "for k, v in companydict.items():\n",
    "    dfsub = pd.DataFrame({'company': [k]})\n",
    "    for subk, subv in v.items():\n",
    "        dfsub[subk] = subv\n",
    "    frames.append(dfsub)\n",
    "dfcompany = pd.concat(frames)\n",
    "dfcompany = dfcompany.reset_index(drop=True)"
   ]
  },
  {
   "cell_type": "code",
   "execution_count": null,
   "id": "authentic-bruce",
   "metadata": {},
   "outputs": [],
   "source": [
    "dfcompany.to_csv('../data/f500_reputation_2020.csv', index=False, quoting=csv.QUOTE_NONNUMERIC, quotechar='\"')"
   ]
  }
 ],
 "metadata": {
  "kernelspec": {
   "display_name": "Python 3",
   "language": "python",
   "name": "python3"
  },
  "language_info": {
   "codemirror_mode": {
    "name": "ipython",
    "version": 3
   },
   "file_extension": ".py",
   "mimetype": "text/x-python",
   "name": "python",
   "nbconvert_exporter": "python",
   "pygments_lexer": "ipython3",
   "version": "3.8.8"
  }
 },
 "nbformat": 4,
 "nbformat_minor": 5
}
