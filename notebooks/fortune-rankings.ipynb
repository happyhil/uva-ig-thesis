{
 "cells": [
  {
   "cell_type": "code",
   "execution_count": null,
   "id": "vulnerable-jimmy",
   "metadata": {},
   "outputs": [],
   "source": [
    "import json\n",
    "import requests\n",
    "import time\n",
    "import random\n",
    "import re\n",
    "from bs4 import BeautifulSoup\n",
    "from selenium import webdriver\n",
    "from webdriver_manager.chrome import ChromeDriverManager"
   ]
  },
  {
   "cell_type": "code",
   "execution_count": null,
   "id": "round-investigator",
   "metadata": {},
   "outputs": [],
   "source": [
    "BASE_URL_COMPANY_GET = \"https://fortune.com/worlds-most-admired-companies/{}/{}/\""
   ]
  },
  {
   "cell_type": "markdown",
   "id": "novel-phone",
   "metadata": {},
   "source": [
    "## get companies"
   ]
  },
  {
   "cell_type": "code",
   "execution_count": null,
   "id": "polished-mailman",
   "metadata": {},
   "outputs": [],
   "source": [
    "def get_company_urls(base_url, year, company, known_companies=None):\n",
    "    \n",
    "    url = base_url.format(year, company)\n",
    "\n",
    "    driver = webdriver.Chrome(ChromeDriverManager().install())\n",
    "    companies = []\n",
    "    driver.get(url)\n",
    "    companies.append(driver.current_url.split('/')[-2])\n",
    "    double_hit = 0\n",
    "    while True:\n",
    "        time.sleep(random.randint(0,3))\n",
    "        if double_hit == 5:\n",
    "            print(f'==> 5 times double hit, last company: {company}')\n",
    "            double_hit = 0\n",
    "            if known_companies is not None:\n",
    "                driver.get(base_url.format(year, known_companies[random.randint(0, len(known_companies)-1)]))\n",
    "                company = driver.current_url.split('/')[-2]\n",
    "                if company not in companies:\n",
    "                    companies.append(company)\n",
    "        try:\n",
    "            button = driver.find_element_by_class_name('singlePagination__next2--3D89W')\n",
    "        except:\n",
    "            print('No next page available')\n",
    "            driver.quit()\n",
    "            break\n",
    "        button.click()\n",
    "        company = driver.current_url.split('/')[-2]\n",
    "        if company not in companies:\n",
    "            companies.append(company)\n",
    "        else:\n",
    "            double_hit += 1\n",
    "            \n",
    "    return companies"
   ]
  },
  {
   "cell_type": "code",
   "execution_count": null,
   "id": "raising-unemployment",
   "metadata": {},
   "outputs": [],
   "source": [
    "companies2020 = get_company_urls(BASE_URL_COMPANY_GET, 2020, 'apple')\n",
    "# companies2019 = get_company_urls(BASE_URL_COMPANY_GET, 2019, 'apple', companies2020)\n",
    "# merged_companies = list(set([*companies2020, *companies2019]))"
   ]
  },
  {
   "cell_type": "markdown",
   "id": "naval-evidence",
   "metadata": {},
   "source": [
    "## get data"
   ]
  },
  {
   "cell_type": "code",
   "execution_count": null,
   "id": "earned-connecticut",
   "metadata": {},
   "outputs": [],
   "source": [
    "def get_company_data(companies, year):\n",
    "\n",
    "    baseurl = \"https://fortune.com/worlds-most-admired-companies/{}/{}/\"\n",
    "    companydict = {}\n",
    "    for c in companies:\n",
    "        response = requests.get(baseurl.format(year, c))\n",
    "        soup = BeautifulSoup(response.content, 'html.parser')\n",
    "        soupmetrics = soup.find_all('tr')\n",
    "        metricdict = {}\n",
    "        for s in soupmetrics:\n",
    "            metric_name = s.find_all('td')[0].text\n",
    "            try:\n",
    "                metric_value = re.findall(r'[-+]?\\d*\\.\\d+|\\d+', s.find_all('td')[1].text)[0]\n",
    "                if '.' in metric_value:\n",
    "                    metric_value = float(metric_value)\n",
    "                else:\n",
    "                    metric_value = int(metric_value)\n",
    "            except:\n",
    "                metric_value = s.find_all('td')[1].text\n",
    "            if metric_value == '-':\n",
    "                metric_value = None\n",
    "            metricdict[metric_name] = metric_value\n",
    "        companydict[soup.find_all('title')[0].text.split(' |')[0]] = metricdict\n",
    "        \n",
    "    return companydict"
   ]
  },
  {
   "cell_type": "code",
   "execution_count": null,
   "id": "framed-looking",
   "metadata": {},
   "outputs": [],
   "source": [
    "companydict2020 = get_company_data(companies2020, 2020)\n",
    "# companydict2019 = get_company_data(merged_companies, 2019)\n",
    "\n",
    "with open(f'../data/fortune/f500_reputation_2020.json', 'w') as outfile:\n",
    "    json.dump(companydict2020, outfile)\n",
    "# with open(f'../data/fortune/f500_reputation_2019.json', 'w') as outfile:\n",
    "#     json.dump(companydict2019, outfile)"
   ]
  },
  {
   "cell_type": "markdown",
   "id": "roman-commander",
   "metadata": {},
   "source": [
    "## to pandas --> 2020"
   ]
  },
  {
   "cell_type": "code",
   "execution_count": null,
   "id": "charitable-friday",
   "metadata": {},
   "outputs": [],
   "source": [
    "import csv\n",
    "import json\n",
    "import pandas as pd"
   ]
  },
  {
   "cell_type": "code",
   "execution_count": null,
   "id": "inside-dividend",
   "metadata": {},
   "outputs": [],
   "source": [
    "with open(f'../data/fortune/f500_reputation_2020.json', 'r') as infile:\n",
    "    companydict2020 = json.load(infile)"
   ]
  },
  {
   "cell_type": "code",
   "execution_count": null,
   "id": "political-romance",
   "metadata": {},
   "outputs": [],
   "source": [
    "frames = []\n",
    "for k, v in companydict2020.items():\n",
    "    dfsub = pd.DataFrame({'company': [k]})\n",
    "    for subk, subv in v.items():\n",
    "        dfsub[subk] = subv\n",
    "    frames.append(dfsub)\n",
    "dfcompany2020 = pd.concat(frames)\n",
    "dfcompany2020 = dfcompany2020.reset_index(drop=True)"
   ]
  },
  {
   "cell_type": "code",
   "execution_count": null,
   "id": "going-isolation",
   "metadata": {},
   "outputs": [],
   "source": [
    "dfcompany2020 = dfcompany2020.loc[lambda x: ~x['Overall Score'].isnull()]"
   ]
  },
  {
   "cell_type": "code",
   "execution_count": null,
   "id": "exclusive-overview",
   "metadata": {},
   "outputs": [],
   "source": [
    "dfcompany2020.to_csv(f'../data/fortune/f500_reputation_2020.csv',\n",
    "                     index=False,\n",
    "                     quoting=csv.QUOTE_NONNUMERIC,\n",
    "                     quotechar='\"')"
   ]
  },
  {
   "cell_type": "markdown",
   "id": "certified-graph",
   "metadata": {},
   "source": [
    "## to pandas --> 2019"
   ]
  },
  {
   "cell_type": "code",
   "execution_count": null,
   "id": "considerable-light",
   "metadata": {},
   "outputs": [],
   "source": [
    "import csv\n",
    "import json\n",
    "import pandas as pd"
   ]
  },
  {
   "cell_type": "code",
   "execution_count": null,
   "id": "european-bryan",
   "metadata": {},
   "outputs": [],
   "source": [
    "with open(f'../data/fortune/f500_reputation_2019.json', 'r') as infile:\n",
    "    companydict2019 = json.load(infile)"
   ]
  },
  {
   "cell_type": "code",
   "execution_count": null,
   "id": "growing-nutrition",
   "metadata": {},
   "outputs": [],
   "source": [
    "frames = []\n",
    "for k, v in companydict2019.items():\n",
    "    dfsub = pd.DataFrame({'company': [k]})\n",
    "    for subk, subv in v.items():\n",
    "        dfsub[subk] = subv\n",
    "    frames.append(dfsub)\n",
    "dfcompany2019 = pd.concat(frames)\n",
    "dfcompany2019 = dfcompany2019.reset_index(drop=True)"
   ]
  },
  {
   "cell_type": "code",
   "execution_count": null,
   "id": "careful-james",
   "metadata": {},
   "outputs": [],
   "source": [
    "dfcompany2019 = dfcompany2019.loc[lambda x: ~x['Overall Score'].isnull()]"
   ]
  },
  {
   "cell_type": "code",
   "execution_count": null,
   "id": "vital-valentine",
   "metadata": {},
   "outputs": [],
   "source": [
    "dfcompany2019.to_csv(f'../data/fortune/f500_reputation_2019.csv',\n",
    "                     index=False,\n",
    "                     quoting=csv.QUOTE_NONNUMERIC,\n",
    "                     quotechar='\"')"
   ]
  }
 ],
 "metadata": {
  "kernelspec": {
   "display_name": "Python 3",
   "language": "python",
   "name": "python3"
  },
  "language_info": {
   "codemirror_mode": {
    "name": "ipython",
    "version": 3
   },
   "file_extension": ".py",
   "mimetype": "text/x-python",
   "name": "python",
   "nbconvert_exporter": "python",
   "pygments_lexer": "ipython3",
   "version": "3.8.9"
  }
 },
 "nbformat": 4,
 "nbformat_minor": 5
}
