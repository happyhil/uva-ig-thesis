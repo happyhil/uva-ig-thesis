{
 "cells": [
  {
   "cell_type": "code",
   "execution_count": null,
   "id": "remarkable-beach",
   "metadata": {},
   "outputs": [],
   "source": [
    "import json\n",
    "import requests\n",
    "import time\n",
    "import random\n",
    "from bs4 import BeautifulSoup\n",
    "from selenium import webdriver\n",
    "from webdriver_manager.chrome import ChromeDriverManager"
   ]
  },
  {
   "cell_type": "code",
   "execution_count": null,
   "id": "focal-canadian",
   "metadata": {},
   "outputs": [],
   "source": [
    "YEAR = 2019\n",
    "BASE_URL_COMPANY_GET = \"https://fortune.com/worlds-most-admired-companies/2020/apple/\" # should be rank 1"
   ]
  },
  {
   "cell_type": "markdown",
   "id": "posted-college",
   "metadata": {},
   "source": [
    "## get companies"
   ]
  },
  {
   "cell_type": "code",
   "execution_count": null,
   "id": "educated-kruger",
   "metadata": {},
   "outputs": [],
   "source": [
    "driver = webdriver.Chrome(ChromeDriverManager().install())\n",
    "companies = []\n",
    "driver.get(BASE_URL_COMPANY_GET)\n",
    "companies.append(driver.current_url.split('/')[-2])\n",
    "for x in range(1, 1000):\n",
    "    time.sleep(random.randint(0,3))\n",
    "    button = driver.find_element_by_class_name('singlePagination__next2--3D89W')\n",
    "    button.click()\n",
    "    companies.append(driver.current_url.split('/')[-2])"
   ]
  },
  {
   "cell_type": "markdown",
   "id": "virgin-bibliography",
   "metadata": {},
   "source": [
    "## get data"
   ]
  },
  {
   "cell_type": "code",
   "execution_count": null,
   "id": "cosmetic-december",
   "metadata": {},
   "outputs": [],
   "source": [
    "baseurl = \"https://fortune.com/worlds-most-admired-companies/{}/{}/\"\n",
    "companydict = {}\n",
    "for c in companies:\n",
    "    response = requests.get(baseurl.format(YEAR, c))\n",
    "    soup = BeautifulSoup(response.content, 'html.parser')\n",
    "    soupmetrics = soup.find_all('tr')\n",
    "    metricdict = {}\n",
    "    for s in soupmetrics:\n",
    "        metricdict[s.find_all('td')[0].text] = s.find_all('td')[1].text\n",
    "    companydict[soup.find_all('title')[0].text.split(' |')[0]] = metricdict"
   ]
  },
  {
   "cell_type": "code",
   "execution_count": null,
   "id": "special-winter",
   "metadata": {},
   "outputs": [],
   "source": [
    "with open(f'../data/fortune/f500_reputation_{YEAR}.json', 'w') as outfile:\n",
    "    json.dump(companydict, outfile)"
   ]
  },
  {
   "cell_type": "markdown",
   "id": "viral-immunology",
   "metadata": {},
   "source": [
    "## to pandas"
   ]
  },
  {
   "cell_type": "code",
   "execution_count": null,
   "id": "successful-banner",
   "metadata": {},
   "outputs": [],
   "source": [
    "import csv\n",
    "import json\n",
    "import pandas as pd"
   ]
  },
  {
   "cell_type": "code",
   "execution_count": null,
   "id": "running-collaboration",
   "metadata": {},
   "outputs": [],
   "source": [
    "with open(f'../data/fortune/f500_reputation_{YEAR}.json', 'r') as infile:\n",
    "    companydict = json.load(infile)"
   ]
  },
  {
   "cell_type": "code",
   "execution_count": null,
   "id": "secondary-lighting",
   "metadata": {},
   "outputs": [],
   "source": [
    "frames = []\n",
    "for k, v in companydict.items():\n",
    "    dfsub = pd.DataFrame({'company': [k]})\n",
    "    for subk, subv in v.items():\n",
    "        dfsub[subk] = subv\n",
    "    frames.append(dfsub)\n",
    "dfcompany = pd.concat(frames)\n",
    "dfcompany = dfcompany.reset_index(drop=True)"
   ]
  },
  {
   "cell_type": "code",
   "execution_count": null,
   "id": "detected-orleans",
   "metadata": {},
   "outputs": [],
   "source": [
    "dfcompany = dfcompany.loc[lambda x: ~x['Overall Score'].isnull()]"
   ]
  },
  {
   "cell_type": "code",
   "execution_count": null,
   "id": "later-tamil",
   "metadata": {},
   "outputs": [],
   "source": [
    "dfcompany.to_csv(f'../data/fortune/f500_reputation_{YEAR}.csv',\n",
    "                 index=False,\n",
    "                 quoting=csv.QUOTE_NONNUMERIC,\n",
    "                 quotechar='\"')"
   ]
  }
 ],
 "metadata": {
  "kernelspec": {
   "display_name": "Python 3",
   "language": "python",
   "name": "python3"
  },
  "language_info": {
   "codemirror_mode": {
    "name": "ipython",
    "version": 3
   },
   "file_extension": ".py",
   "mimetype": "text/x-python",
   "name": "python",
   "nbconvert_exporter": "python",
   "pygments_lexer": "ipython3",
   "version": "3.8.8"
  }
 },
 "nbformat": 4,
 "nbformat_minor": 5
}
