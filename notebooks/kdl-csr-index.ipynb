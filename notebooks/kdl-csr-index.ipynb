{
 "cells": [
  {
   "cell_type": "code",
   "execution_count": null,
   "id": "extraordinary-dylan",
   "metadata": {},
   "outputs": [],
   "source": [
    "import os\n",
    "import json\n",
    "import csv\n",
    "import pandas as pd\n",
    "from src import string_matching, features"
   ]
  },
  {
   "cell_type": "code",
   "execution_count": null,
   "id": "sunrise-eclipse",
   "metadata": {},
   "outputs": [],
   "source": [
    "ELEMENTS = {\n",
    "    'com': 'community',\n",
    "    'env': 'environment',\n",
    "    'div': 'diversity',\n",
    "    'emp': 'employee_relation',\n",
    "    'pro': 'product',\n",
    "}"
   ]
  },
  {
   "cell_type": "code",
   "execution_count": null,
   "id": "official-purse",
   "metadata": {},
   "outputs": [],
   "source": [
    "dffortune = pd.read_csv('../data/fortune/f500_full_firm_data.csv')\n",
    "dfsample = pd.read_csv('../data/fortune/f500_final_firm_sample.csv')\n",
    "df_mscikld = pd.read_csv('../data/dbs/msci_esg_kld.csv', low_memory=False)\n",
    "\n",
    "dffortune_sample = dffortune.loc[lambda x: ((x['ranking']<=300)\n",
    "                                          & (x['include']==True))\n",
    "                                          | (x['firmhash'].isin(dfsample['firmhash']))].drop(columns=['include', 'ranklabel']).reset_index(drop=True)\n",
    "\n",
    "df_mscikld = df_mscikld.rename(columns={'CompanyName': 'firm'})\n",
    "df_mscikld, _, __ = string_matching.match_firm_hash(dffortune_sample, df_mscikld, verbose=False)\n",
    "df_mscikld_matched = df_mscikld.loc[lambda x: x['firmhash']>0]"
   ]
  },
  {
   "cell_type": "code",
   "execution_count": null,
   "id": "collaborative-argentina",
   "metadata": {},
   "outputs": [],
   "source": [
    "csr_scores = features.generate_csr_index(df_mscikld_matched, ELEMENTS)"
   ]
  },
  {
   "cell_type": "code",
   "execution_count": null,
   "id": "presidential-metabolism",
   "metadata": {},
   "outputs": [],
   "source": [
    "with open('../data/msci_kld/msci_kld_social_ratings.json', 'w') as outfile:\n",
    "    json.dump(csr_scores, outfile)"
   ]
  },
  {
   "cell_type": "markdown",
   "id": "after-spyware",
   "metadata": {},
   "source": [
    "## to pandas"
   ]
  },
  {
   "cell_type": "code",
   "execution_count": null,
   "id": "demographic-detective",
   "metadata": {},
   "outputs": [],
   "source": [
    "with open('../data/msci_kld/msci_kld_social_ratings.json', 'r') as infile:\n",
    "    csr_scores = json.load(infile)"
   ]
  },
  {
   "cell_type": "code",
   "execution_count": null,
   "id": "stupid-richardson",
   "metadata": {},
   "outputs": [],
   "source": [
    "df_csr_scores = pd.DataFrame({\n",
    "    'firmhash': [k for k in csr_scores.keys()],\n",
    "    'last_available_year': [v['last_available_year'] for v in csr_scores.values()],\n",
    "    'csr_index': [round(v['csr_index'], 10) for v in csr_scores.values()]\n",
    "})"
   ]
  },
  {
   "cell_type": "code",
   "execution_count": null,
   "id": "detailed-identifier",
   "metadata": {},
   "outputs": [],
   "source": [
    "df_csr_scores.to_csv('../data/msci_kld/msci_kld_social_ratings.csv',\n",
    "                     index=False,\n",
    "                     quotechar='\"',\n",
    "                     quoting=csv.QUOTE_NONNUMERIC)"
   ]
  }
 ],
 "metadata": {
  "kernelspec": {
   "display_name": "Python 3",
   "language": "python",
   "name": "python3"
  },
  "language_info": {
   "codemirror_mode": {
    "name": "ipython",
    "version": 3
   },
   "file_extension": ".py",
   "mimetype": "text/x-python",
   "name": "python",
   "nbconvert_exporter": "python",
   "pygments_lexer": "ipython3",
   "version": "3.8.9"
  }
 },
 "nbformat": 4,
 "nbformat_minor": 5
}
