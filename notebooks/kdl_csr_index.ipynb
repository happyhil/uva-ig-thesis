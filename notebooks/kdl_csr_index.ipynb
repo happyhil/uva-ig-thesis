{
 "cells": [
  {
   "cell_type": "code",
   "execution_count": 1,
   "id": "chinese-program",
   "metadata": {},
   "outputs": [],
   "source": [
    "import os\n",
    "import json\n",
    "import csv\n",
    "import pandas as pd\n",
    "from src import string_matching, features"
   ]
  },
  {
   "cell_type": "code",
   "execution_count": 2,
   "id": "authorized-consolidation",
   "metadata": {},
   "outputs": [],
   "source": [
    "ELEMENTS = {\n",
    "    'com': 'community',\n",
    "    'env': 'environment',\n",
    "    'div': 'diversity',\n",
    "    'emp': 'employee_relation',\n",
    "    'pro': 'product',\n",
    "}"
   ]
  },
  {
   "cell_type": "code",
   "execution_count": 3,
   "id": "angry-present",
   "metadata": {},
   "outputs": [],
   "source": [
    "dffortune = pd.read_csv('../data/fortune/f500_full_firm_data.csv')\n",
    "df_mscikld = pd.read_csv('../data/dbs/msci_esg_kld.csv', low_memory=False)\n",
    "\n",
    "dffortune_sample = dffortune.loc[lambda x: (x['ranking']<=300) & (x['include']==True)].drop(columns=['include', 'ranklabel']).reset_index(drop=True)\n",
    "\n",
    "df_mscikld = df_mscikld.rename(columns={'CompanyName': 'firm'})\n",
    "df_mscikld, _, __ = string_matching.match_firm_hash(dffortune_sample, df_mscikld, verbose=False)\n",
    "df_mscikld_matched = df_mscikld.loc[lambda x: x['firmhash']>0]"
   ]
  },
  {
   "cell_type": "code",
   "execution_count": 4,
   "id": "tribal-syndication",
   "metadata": {},
   "outputs": [],
   "source": [
    "csr_scores = features.generate_csr_index(df_mscikld_matched, ELEMENTS)"
   ]
  },
  {
   "cell_type": "code",
   "execution_count": 5,
   "id": "floating-option",
   "metadata": {},
   "outputs": [],
   "source": [
    "with open('../data/msci_kld/msci_kld_social_ratings.json', 'w') as outfile:\n",
    "    json.dump(csr_scores, outfile)"
   ]
  },
  {
   "cell_type": "markdown",
   "id": "intensive-salon",
   "metadata": {},
   "source": [
    "## to pandas"
   ]
  },
  {
   "cell_type": "code",
   "execution_count": 6,
   "id": "integral-nevada",
   "metadata": {},
   "outputs": [],
   "source": [
    "with open('../data/msci_kld/msci_kld_social_ratings.json', 'r') as infile:\n",
    "    csr_scores = json.load(infile)"
   ]
  },
  {
   "cell_type": "code",
   "execution_count": 7,
   "id": "convinced-cabinet",
   "metadata": {},
   "outputs": [],
   "source": [
    "df_csr_scores = pd.DataFrame({\n",
    "    'firmhash': [k for k in csr_scores.keys()],\n",
    "    'last_available_year': [v['last_available_year'] for v in csr_scores.values()],\n",
    "    'csr_index': [round(v['csr_index'], 10) for v in csr_scores.values()]\n",
    "})"
   ]
  },
  {
   "cell_type": "code",
   "execution_count": 8,
   "id": "regulation-fiber",
   "metadata": {},
   "outputs": [],
   "source": [
    "df_csr_scores.to_csv('../data/msci_kld/msci_kld_social_ratings.csv',\n",
    "                     index=False,\n",
    "                     quotechar='\"',\n",
    "                     quoting=csv.QUOTE_NONNUMERIC)"
   ]
  }
 ],
 "metadata": {
  "kernelspec": {
   "display_name": "Python 3",
   "language": "python",
   "name": "python3"
  },
  "language_info": {
   "codemirror_mode": {
    "name": "ipython",
    "version": 3
   },
   "file_extension": ".py",
   "mimetype": "text/x-python",
   "name": "python",
   "nbconvert_exporter": "python",
   "pygments_lexer": "ipython3",
   "version": "3.8.9"
  }
 },
 "nbformat": 4,
 "nbformat_minor": 5
}
