{
 "cells": [
  {
   "cell_type": "code",
   "execution_count": null,
   "id": "patient-compact",
   "metadata": {},
   "outputs": [],
   "source": [
    "import json\n",
    "import pandas as pd\n",
    "import statsmodels.api as sm\n",
    "from sklearn.preprocessing import StandardScaler"
   ]
  },
  {
   "cell_type": "code",
   "execution_count": null,
   "id": "dress-fighter",
   "metadata": {},
   "outputs": [],
   "source": [
    "Y_COLUMN = 'reputation_score_2020'\n",
    "\n",
    "def _model(dataf, x_columns, y_column):\n",
    "    \"\"\"\"\"\"\n",
    "    \n",
    "    scaler = StandardScaler() \n",
    "    df_X_train = pd.DataFrame(scaler.fit_transform(dataf[x_columns]), columns=x_columns)\n",
    "    df_X_train['constant'] = 1\n",
    "\n",
    "    df_y_train = dataf[[y_column]] \n",
    "    model = sm.OLS(df_y_train, df_X_train).fit() \n",
    "\n",
    "    return model"
   ]
  },
  {
   "cell_type": "code",
   "execution_count": null,
   "id": "conditional-pointer",
   "metadata": {},
   "outputs": [],
   "source": [
    "df = pd.read_csv('../data/modelinput/information_governance_clean_dataset.csv')\n",
    "with open('../data/modeloutput/feature_fits_20210418_203530.json', 'r') as infile:\n",
    "    results = json.load(infile)"
   ]
  },
  {
   "cell_type": "code",
   "execution_count": null,
   "id": "ecological-assurance",
   "metadata": {
    "tags": []
   },
   "outputs": [],
   "source": [
    "count = 0\n",
    "max_score = 0\n",
    "best_features = None\n",
    "for k, v in results.items():\n",
    "    if v['rsquared_adj'] > max_score:\n",
    "        max_score = v['rsquared_adj']\n",
    "        n_significant = v['n_significant']\n",
    "        best_features = v['features']"
   ]
  },
  {
   "cell_type": "code",
   "execution_count": null,
   "id": "developmental-azerbaijan",
   "metadata": {},
   "outputs": [],
   "source": [
    "model = _model(df, best_features, Y_COLUMN)"
   ]
  },
  {
   "cell_type": "code",
   "execution_count": null,
   "id": "latin-diesel",
   "metadata": {},
   "outputs": [],
   "source": [
    "print(model.summary())"
   ]
  }
 ],
 "metadata": {
  "kernelspec": {
   "display_name": "Python 3",
   "language": "python",
   "name": "python3"
  },
  "language_info": {
   "codemirror_mode": {
    "name": "ipython",
    "version": 3
   },
   "file_extension": ".py",
   "mimetype": "text/x-python",
   "name": "python",
   "nbconvert_exporter": "python",
   "pygments_lexer": "ipython3",
   "version": "3.8.8"
  }
 },
 "nbformat": 4,
 "nbformat_minor": 5
}
