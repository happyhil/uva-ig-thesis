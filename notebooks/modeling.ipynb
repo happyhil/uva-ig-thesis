{
 "cells": [
  {
   "cell_type": "code",
   "execution_count": null,
   "id": "renewable-commercial",
   "metadata": {},
   "outputs": [],
   "source": [
    "import json\n",
    "import pandas as pd"
   ]
  },
  {
   "cell_type": "code",
   "execution_count": null,
   "id": "rising-occupation",
   "metadata": {},
   "outputs": [],
   "source": [
    "Y_COLUMN = 'reputation_score_2020'"
   ]
  },
  {
   "cell_type": "markdown",
   "id": "subsequent-warren",
   "metadata": {},
   "source": [
    "## read in data"
   ]
  },
  {
   "cell_type": "code",
   "execution_count": null,
   "id": "incident-language",
   "metadata": {},
   "outputs": [],
   "source": [
    "df = pd.read_csv('../data/modelinput/information_governance_clean_dataset.csv')"
   ]
  },
  {
   "cell_type": "markdown",
   "id": "boolean-mother",
   "metadata": {},
   "source": [
    "## --> ols model by theory features"
   ]
  },
  {
   "cell_type": "code",
   "execution_count": null,
   "id": "floating-spoke",
   "metadata": {},
   "outputs": [],
   "source": [
    "FEATURES = [\n",
    "    'relational_ig_practises',\n",
    "    'formal_ig_practises',\n",
    "    'return_on_assets',\n",
    "#     'profits_in_millions',\n",
    "    'n_employees',\n",
    "#     'revenue_in_millions',\n",
    "    'csr_index',\n",
    "    'n_data_breaches',\n",
    "    'dummy_sector_Health Care',\n",
    "    'dummy_sector_Technology',\n",
    "    'dummy_sector_Media',\n",
    "    'dummy_sector_Energy',\n",
    "    'dummy_sector_Financials',\n",
    "    'dummy_sector_Retailing',\n",
    "    'dummy_sector_Industrials',\n",
    "    'dummy_sector_Business Services',\n",
    "    'dummy_sector_Household Products',\n",
    "    'dummy_sector_Transportation',\n",
    "    'dummy_sector_Telecommunications',\n",
    "]"
   ]
  },
  {
   "cell_type": "code",
   "execution_count": null,
   "id": "blond-manor",
   "metadata": {},
   "outputs": [],
   "source": [
    "# for c in FEATURES:\n",
    "#     print(df[FEATURES].loc[lambda x: x[c].isnull()])"
   ]
  },
  {
   "cell_type": "code",
   "execution_count": null,
   "id": "pregnant-spirituality",
   "metadata": {},
   "outputs": [],
   "source": [
    "model = _model(df, FEATURES, Y_COLUMN)"
   ]
  },
  {
   "cell_type": "code",
   "execution_count": null,
   "id": "cardiovascular-concentration",
   "metadata": {},
   "outputs": [],
   "source": [
    "print(model.summary())"
   ]
  },
  {
   "cell_type": "markdown",
   "id": "south-advance",
   "metadata": {},
   "source": [
    "## --> ols model by output of feature selection"
   ]
  },
  {
   "cell_type": "code",
   "execution_count": null,
   "id": "imported-mounting",
   "metadata": {},
   "outputs": [],
   "source": [
    "with open('../data/modeloutput/feature_fits_20210421_002632.json', 'r') as infile:\n",
    "    results = json.load(infile)"
   ]
  },
  {
   "cell_type": "code",
   "execution_count": null,
   "id": "complimentary-bracelet",
   "metadata": {
    "tags": []
   },
   "outputs": [],
   "source": [
    "count = 0\n",
    "max_score = 0\n",
    "best_features = None\n",
    "for k, v in results.items():\n",
    "    if v['rsquared_adj'] > max_score:\n",
    "        max_score = v['rsquared_adj']\n",
    "        n_significant = v['n_significant']\n",
    "        best_features = v['features']"
   ]
  },
  {
   "cell_type": "code",
   "execution_count": null,
   "id": "liberal-stadium",
   "metadata": {},
   "outputs": [],
   "source": [
    "model = _model(df, best_features, Y_COLUMN)"
   ]
  },
  {
   "cell_type": "code",
   "execution_count": null,
   "id": "ecological-making",
   "metadata": {},
   "outputs": [],
   "source": [
    "print(model.summary())"
   ]
  }
 ],
 "metadata": {
  "kernelspec": {
   "display_name": "Python 3",
   "language": "python",
   "name": "python3"
  },
  "language_info": {
   "codemirror_mode": {
    "name": "ipython",
    "version": 3
   },
   "file_extension": ".py",
   "mimetype": "text/x-python",
   "name": "python",
   "nbconvert_exporter": "python",
   "pygments_lexer": "ipython3",
   "version": "3.8.9"
  }
 },
 "nbformat": 4,
 "nbformat_minor": 5
}
