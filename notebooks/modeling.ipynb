{
 "cells": [
  {
   "cell_type": "code",
   "execution_count": 185,
   "id": "mathematical-quebec",
   "metadata": {},
   "outputs": [],
   "source": [
    "import json\n",
    "from datetime import datetime\n",
    "import pandas as pd\n",
    "import itertools\n",
    "import statsmodels.api as sm\n",
    "from sklearn.preprocessing import StandardScaler"
   ]
  },
  {
   "cell_type": "code",
   "execution_count": 21,
   "id": "thrown-gibraltar",
   "metadata": {},
   "outputs": [],
   "source": [
    "df = pd.read_csv('../data/modelinput/information_governance_clean_dataset.csv')"
   ]
  },
  {
   "cell_type": "code",
   "execution_count": 171,
   "id": "seven-mailing",
   "metadata": {},
   "outputs": [],
   "source": [
    "y_column = 'reputation_score_2020'\n",
    "# y_column = 'reputation_score_growth'\n",
    "x_columns = [\n",
    "    'revenue_in_millions',\n",
    "    'profits_in_millions',\n",
    "#     'return_on_assets',\n",
    "#     'n_employees',\n",
    "#     'age_in_years',\n",
    "#     'pp_n_sentence',\n",
    "#     'pp_number_of_words',\n",
    "#     'pp_number_of_unique_words',\n",
    "#     'pp_existence_of_a_transparency_report',\n",
    "#     'pp_contact_option',\n",
    "#     'dummy_pp_legislation_complied_with_standard',\n",
    "#     'dummy_pp_legislation_complied_with_ccpa',\n",
    "#     'dummy_pp_legislation_complied_with_gdpr',\n",
    "#     'pp_third_party_sharing',\n",
    "#     'pp_existence_of_a_data_protection_officer',\n",
    "#     'pp_iso_type',\n",
    "#     'pp_ambiquity_score',\n",
    "#     'pp_gunning_fog_index',\n",
    "#     'n_data_breaches',\n",
    "]"
   ]
  },
  {
   "cell_type": "code",
   "execution_count": 173,
   "id": "fifty-sweden",
   "metadata": {},
   "outputs": [],
   "source": [
    "def _model(dataf, x_columns, y_column):\n",
    "    \"\"\"\"\"\"\n",
    "    \n",
    "    scaler = StandardScaler() \n",
    "    df_X_train = pd.DataFrame(scaler.fit_transform(dataf[x_columns]), columns=x_columns)\n",
    "    df_X_train['constant'] = 1\n",
    "\n",
    "    df_y_train = dataf[[y_column]] \n",
    "    model = sm.OLS(df_y_train, df_X_train).fit() \n",
    "\n",
    "    return model\n",
    "\n",
    "def list_combination(x_columns):\n",
    "    \"\"\"\"\"\"\n",
    "\n",
    "    subcombinations = []\n",
    "    for i in range(1, len(x_columns)+1):\n",
    "        comb = [list(x) for x in list(itertools.combinations(x_columns, i))]\n",
    "        subcombinations.append(comb)\n",
    "    combinations = [i for l in subcombinations for i in l]\n",
    "    \n",
    "    return combinations\n",
    "    \n",
    "\n",
    "def run_feature_selection(dataf, x_columns, y_column):\n",
    "    \"\"\"\"\"\"\n",
    "    \n",
    "    combinations = list_combination(x_columns)\n",
    "\n",
    "    results = {}\n",
    "    highest_r_adj = 0\n",
    "    best_features = None\n",
    "    for n in range(0, len(combinations)):\n",
    "        model = _model(dataf, combinations[n], y_column)\n",
    "        if model.rsquared_adj > highest_r_adj:\n",
    "            highest_r_adj = model.rsquared_adj\n",
    "            best_features = combinations[n]\n",
    "        results[n] = {\n",
    "            'rsquared_adj': model.rsquared_adj,\n",
    "            'n_significant': len([p for p in model.pvalues.values if p <= 0.05]),\n",
    "            'features': combinations[n]\n",
    "        }\n",
    "        \n",
    "    return highest_r_adj, best_features, results"
   ]
  },
  {
   "cell_type": "code",
   "execution_count": 174,
   "id": "rural-webmaster",
   "metadata": {},
   "outputs": [],
   "source": [
    "highest_r_adj, best_features, results = run_feature_selection(df, x_columns, y_column)"
   ]
  },
  {
   "cell_type": "code",
   "execution_count": 186,
   "id": "impressive-sapphire",
   "metadata": {},
   "outputs": [],
   "source": [
    "with open(f'../data/modeloutput/feature_fits_{datetime.now().strftime(\"%Y%m%d_%H%M%S\")}.json', 'w') as outfile:\n",
    "    json.dump(results, outfile)"
   ]
  },
  {
   "cell_type": "code",
   "execution_count": 159,
   "id": "oriental-adoption",
   "metadata": {
    "tags": []
   },
   "outputs": [],
   "source": [
    "count = 0\n",
    "max_lenght = 0\n",
    "for k, v in results.items():\n",
    "    if v['rsquared_adj']>=0.2:\n",
    "        if len(v['features']) > max_lenght:\n",
    "            best_lenght_features = v['features']"
   ]
  },
  {
   "cell_type": "code",
   "execution_count": 161,
   "id": "norman-prairie",
   "metadata": {},
   "outputs": [],
   "source": [
    "model = _model(df, best_features, y_column)\n",
    "model = _model(df, best_lenght_features, y_column)"
   ]
  },
  {
   "cell_type": "code",
   "execution_count": null,
   "id": "pointed-evidence",
   "metadata": {},
   "outputs": [],
   "source": []
  }
 ],
 "metadata": {
  "kernelspec": {
   "display_name": "Python 3",
   "language": "python",
   "name": "python3"
  },
  "language_info": {
   "codemirror_mode": {
    "name": "ipython",
    "version": 3
   },
   "file_extension": ".py",
   "mimetype": "text/x-python",
   "name": "python",
   "nbconvert_exporter": "python",
   "pygments_lexer": "ipython3",
   "version": "3.8.8"
  }
 },
 "nbformat": 4,
 "nbformat_minor": 5
}
