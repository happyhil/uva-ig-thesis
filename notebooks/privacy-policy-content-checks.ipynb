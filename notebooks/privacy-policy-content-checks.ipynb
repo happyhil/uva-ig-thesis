{
 "cells": [
  {
   "cell_type": "code",
   "execution_count": null,
   "id": "conservative-graduation",
   "metadata": {},
   "outputs": [],
   "source": [
    "import json"
   ]
  },
  {
   "cell_type": "code",
   "execution_count": null,
   "id": "appreciated-invasion",
   "metadata": {},
   "outputs": [],
   "source": [
    "READ_IN_CORRECTED = True"
   ]
  },
  {
   "cell_type": "markdown",
   "id": "negative-lancaster",
   "metadata": {},
   "source": [
    "## read in urls"
   ]
  },
  {
   "cell_type": "code",
   "execution_count": null,
   "id": "elementary-organ",
   "metadata": {},
   "outputs": [],
   "source": [
    "with open('../data/policies/tmp/policies_scrape_log.json', 'r') as logstream:\n",
    "    logdict = json.load(logstream)\n",
    "if READ_IN_CORRECTED:\n",
    "    with open('../data/policies/urls/privacy_policy_urls_corrected.json', 'r') as infile:\n",
    "        corrected_ppurls = json.load(infile)\n",
    "else:\n",
    "    corrected_ppurls = {}"
   ]
  },
  {
   "cell_type": "markdown",
   "id": "utility-flesh",
   "metadata": {},
   "source": [
    "## -- run auto check on n chars"
   ]
  },
  {
   "cell_type": "code",
   "execution_count": null,
   "id": "applied-party",
   "metadata": {
    "tags": []
   },
   "outputs": [],
   "source": [
    "seq = 0\n",
    "for k, v in logdict.items():\n",
    "    if v['firm'] in corrected_ppurls.keys():\n",
    "        pass\n",
    "    else:\n",
    "        if v['n_char'] < 5000:\n",
    "            seq += 1\n",
    "            print(f'{v[\"n_char\"]} chars for {v[\"firm\"]} - old url: {v[\"ppurl\"]}')\n",
    "            Join = input('Would you like to set a new url? [y/n]\\n')\n",
    "            if Join.lower() == 'yes' or Join.lower() == 'y':\n",
    "                new_ppurl = input('Please enter the correct url: ')\n",
    "                Join = 'n'\n",
    "                while Join.lower() != 'yes' or Join.lower() != 'y':\n",
    "                    Join = input(f'New url: {new_ppurl}, is this correct? [y/n]\\n')\n",
    "                    if Join.lower() == 'yes' or Join.lower() == 'y':\n",
    "                        break\n",
    "                    new_ppurl = input('Please enter the correct url: ')\n",
    "                corrected_ppurls[v['firm']] = {\n",
    "                    'ppurl': new_ppurl\n",
    "                }\n",
    "            else:\n",
    "                corrected_ppurls[v['firm']] = {\n",
    "                    'ppurl': v['ppurl']\n",
    "                }\n",
    "            print('--> url fixed, move to next one!')\n",
    "            print(f'--> n checked: {seq}')\n",
    "            print(' ')\n",
    "\n",
    "        else:\n",
    "            corrected_ppurls[v['firm']] = {\n",
    "                'ppurl': v['ppurl']\n",
    "            }"
   ]
  },
  {
   "cell_type": "code",
   "execution_count": null,
   "id": "similar-remedy",
   "metadata": {},
   "outputs": [],
   "source": [
    "with open('../data/policies/urls/privacy_policy_urls_corrected.json', 'w') as outfile:\n",
    "    json.dump(corrected_ppurls, outfile)"
   ]
  },
  {
   "cell_type": "markdown",
   "id": "automated-quantity",
   "metadata": {},
   "source": [
    "## -- merge additionals"
   ]
  },
  {
   "cell_type": "code",
   "execution_count": null,
   "id": "suspected-button",
   "metadata": {},
   "outputs": [],
   "source": [
    "with open('../data/policies/urls/privacy_policy_urls_corrected.json', 'r') as infile:\n",
    "    corrected_ppurls = json.load(infile)\n",
    "with open('../data/policies/urls/privacy_policy_urls_20210513.json', 'r') as infile:\n",
    "    additional_ppurls = json.load(infile)\n",
    "    additional_ppurls = {k: v for k, v in additional_ppurls.items() if k not in corrected_ppurls.keys()}"
   ]
  },
  {
   "cell_type": "code",
   "execution_count": null,
   "id": "korean-webcam",
   "metadata": {},
   "outputs": [],
   "source": [
    "for k, v in additional_ppurls.items():\n",
    "    corrected_ppurls[k] = v"
   ]
  },
  {
   "cell_type": "code",
   "execution_count": null,
   "id": "strange-plant",
   "metadata": {},
   "outputs": [],
   "source": [
    "len(corrected_ppurls)"
   ]
  },
  {
   "cell_type": "markdown",
   "id": "congressional-being",
   "metadata": {},
   "source": [
    "## -- perform manual adjustments"
   ]
  },
  {
   "cell_type": "code",
   "execution_count": null,
   "id": "usual-celebration",
   "metadata": {},
   "outputs": [],
   "source": [
    "# corrected_ppurls['Thermo Fisher Scientific'] = {'ppurl': 'https://www.thermofisher.com/us/en/home/global/privacy-policy.html'}\n",
    "# corrected_ppurls['Loews'] = {'ppurl': 'https://www.loewshotels.com/privacy-policy'}\n",
    "# corrected_ppurls['Charter Communications'] = {'ppurl': 'https://www.spectrum.com/policies/privacy-policy'}\n",
    "# corrected_ppurls['Whirlpool'] = {'ppurl': 'https://whirlpoolcorp.com/privacy-notice-united-states-and-canada/'}\n",
    "# corrected_ppurls['Universal Health Services'] = {'ppurl': 'https://www.uhsinc.com/wp-content/uploads/2017/10/Privacy-26.0-Disclosure-Not-Requiring-Authorization-or-Opportunity-for-Patient-to-Agree-or-Object.pdf'}\n",
    "# corrected_ppurls['Merck'] = {'ppurl': 'https://www.msdprivacy.com/us/en/internet-privacy-policy/'}\n",
    "# corrected_ppurls['Xcel Energy'] = {'ppurl': 'https://www.xcelenergy.com/staticfiles/xe/Admin/Xcel%20Online%20Privacy%20Policy.pdf'}\n",
    "# more corrections here ==>\n",
    "corrected_ppurls['Workday'] = {'ppurl': 'https://www.workday.com/en-us/privacy.html'}\n",
    "corrected_ppurls['Leggett & Platt'] = {'ppurl': 'https://privacy.leggett.com/privacy-statement'}\n",
    "corrected_ppurls['Apache'] = {'ppurl': 'https://apacorp.com/privacy-policy/'}\n",
    "corrected_ppurls['Booz Allen Hamilton Holding'] = {'ppurl': 'https://www.boozallen.com/tools/footer-navigation/privacy-policy.html'}\n",
    "corrected_ppurls['Intuit'] = {'ppurl': 'https://www.intuit.com/privacy/statement/'}\n",
    "corrected_ppurls['Northern Trust'] = {'ppurl': 'https://cdn.northerntrust.com/pws/nt/documents/legal/us-privacy-notice.pdf'}\n",
    "corrected_ppurls['Quest Diagnostics'] = {'ppurl': 'https://www.questdiagnostics.com/home/privacy/privacy-notice/'}\n",
    "corrected_ppurls['Wayfair'] = {'ppurl': 'https://terms.wayfair.io/en-US?csnid=&csnutid=23e17d3a-60a1-2f8b-9868-395b3a798602&txid=I%2BF9OmChL6cRWjcz7YWvAg%3D%3D#privacy'}\n",
    "corrected_ppurls['Jones Financial (Edward Jones)'] = {'ppurl': 'https://www.edwardjones.com/us-en/privacy/online-privacy-policy'}\n",
    "corrected_ppurls['Henry Schein'] = {'ppurl': 'https://www.henryschein.com/us-en/Privacy.aspx?PageType=popup'}"
   ]
  },
  {
   "cell_type": "code",
   "execution_count": null,
   "id": "orange-garage",
   "metadata": {},
   "outputs": [],
   "source": [
    "len(corrected_ppurls)"
   ]
  },
  {
   "cell_type": "code",
   "execution_count": null,
   "id": "aggregate-christmas",
   "metadata": {},
   "outputs": [],
   "source": [
    "with open('../data/policies/urls/privacy_policy_urls_corrected.json', 'w') as outfile:\n",
    "    json.dump(corrected_ppurls, outfile)"
   ]
  },
  {
   "cell_type": "markdown",
   "id": "constitutional-crime",
   "metadata": {},
   "source": [
    "## -- final checks"
   ]
  },
  {
   "cell_type": "code",
   "execution_count": null,
   "id": "presidential-thomson",
   "metadata": {},
   "outputs": [],
   "source": [
    "with open('../data/policies/tmp/policies_scrape_log.json', 'r') as logstream:\n",
    "    logdict = json.load(logstream)"
   ]
  },
  {
   "cell_type": "code",
   "execution_count": null,
   "id": "silent-biography",
   "metadata": {},
   "outputs": [],
   "source": [
    "for k, v in logdict.items():\n",
    "    if v['n_char'] < 100:\n",
    "        print(v['firm'])\n",
    "        print(v['ppurl'])"
   ]
  }
 ],
 "metadata": {
  "kernelspec": {
   "display_name": "Python 3",
   "language": "python",
   "name": "python3"
  },
  "language_info": {
   "codemirror_mode": {
    "name": "ipython",
    "version": 3
   },
   "file_extension": ".py",
   "mimetype": "text/x-python",
   "name": "python",
   "nbconvert_exporter": "python",
   "pygments_lexer": "ipython3",
   "version": "3.8.9"
  }
 },
 "nbformat": 4,
 "nbformat_minor": 5
}
