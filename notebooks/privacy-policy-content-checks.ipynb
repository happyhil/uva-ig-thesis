{
 "cells": [
  {
   "cell_type": "code",
   "execution_count": 2,
   "id": "alive-enforcement",
   "metadata": {},
   "outputs": [],
   "source": [
    "import json"
   ]
  },
  {
   "cell_type": "code",
   "execution_count": null,
   "id": "assumed-omaha",
   "metadata": {},
   "outputs": [],
   "source": [
    "READ_IN_CORRECTED = True"
   ]
  },
  {
   "cell_type": "markdown",
   "id": "developing-tonight",
   "metadata": {},
   "source": [
    "## read in urls"
   ]
  },
  {
   "cell_type": "code",
   "execution_count": null,
   "id": "ideal-beach",
   "metadata": {},
   "outputs": [],
   "source": [
    "with open('../data/policies/tmp/policies_scrape_log.json', 'r') as logstream:\n",
    "    logdict = json.load(logstream)\n",
    "if READ_IN_CORRECTED:\n",
    "    with open('../data/policies/urls/privacy_policy_urls_corrected.json', 'r') as infile:\n",
    "        corrected_ppurls = json.load(infile)\n",
    "else:\n",
    "    corrected_ppurls = {}"
   ]
  },
  {
   "cell_type": "markdown",
   "id": "noted-compact",
   "metadata": {},
   "source": [
    "## -- run auto check on n chars"
   ]
  },
  {
   "cell_type": "code",
   "execution_count": null,
   "id": "bound-watson",
   "metadata": {
    "tags": []
   },
   "outputs": [],
   "source": [
    "seq = 0\n",
    "for k, v in logdict.items():\n",
    "    if v['firm'] in corrected_ppurls.keys():\n",
    "        pass\n",
    "    else:\n",
    "        if v['n_char'] < 5000:\n",
    "            seq += 1\n",
    "            print(f'{v[\"n_char\"]} chars for {v[\"firm\"]} - old url: {v[\"ppurl\"]}')\n",
    "            Join = input('Would you like to set a new url? [y/n]\\n')\n",
    "            if Join.lower() == 'yes' or Join.lower() == 'y':\n",
    "                new_ppurl = input('Please enter the correct url: ')\n",
    "                Join = 'n'\n",
    "                while Join.lower() != 'yes' or Join.lower() != 'y':\n",
    "                    Join = input(f'New url: {new_ppurl}, is this correct? [y/n]\\n')\n",
    "                    if Join.lower() == 'yes' or Join.lower() == 'y':\n",
    "                        break\n",
    "                    new_ppurl = input('Please enter the correct url: ')\n",
    "                corrected_ppurls[v['firm']] = {\n",
    "                    'ppurl': new_ppurl\n",
    "                }\n",
    "            else:\n",
    "                corrected_ppurls[v['firm']] = {\n",
    "                    'ppurl': v['ppurl']\n",
    "                }\n",
    "            print('--> url fixed, move to next one!')\n",
    "            print(f'--> n checked: {seq}')\n",
    "            print(' ')\n",
    "\n",
    "        else:\n",
    "            corrected_ppurls[v['firm']] = {\n",
    "                'ppurl': v['ppurl']\n",
    "            }"
   ]
  },
  {
   "cell_type": "code",
   "execution_count": null,
   "id": "upper-filename",
   "metadata": {},
   "outputs": [],
   "source": [
    "with open('../data/policies/urls/privacy_policy_urls_corrected.json', 'w') as outfile:\n",
    "    json.dump(corrected_ppurls, outfile)"
   ]
  },
  {
   "cell_type": "markdown",
   "id": "stainless-mills",
   "metadata": {},
   "source": [
    "## -- perform manual adjustments"
   ]
  },
  {
   "cell_type": "code",
   "execution_count": 6,
   "id": "statewide-finding",
   "metadata": {},
   "outputs": [],
   "source": [
    "with open('../data/policies/urls/privacy_policy_urls_corrected.json', 'r') as infile:\n",
    "    corrected_ppurls = json.load(infile)"
   ]
  },
  {
   "cell_type": "code",
   "execution_count": 7,
   "id": "renewable-dress",
   "metadata": {},
   "outputs": [],
   "source": [
    "# corrected_ppurls['Thermo Fisher Scientific'] = {'ppurl': 'https://www.thermofisher.com/us/en/home/global/privacy-policy.html'}\n",
    "# corrected_ppurls['Loews'] = {'ppurl': 'https://www.loewshotels.com/privacy-policy'}\n",
    "# corrected_ppurls['Charter Communications'] = {'ppurl': 'https://www.spectrum.com/policies/privacy-policy'}\n",
    "# corrected_ppurls['Whirlpool'] = {'ppurl': 'https://whirlpoolcorp.com/privacy-notice-united-states-and-canada/'}\n",
    "# corrected_ppurls['Universal Health Services'] = {'ppurl': 'https://www.uhsinc.com/wp-content/uploads/2017/10/Privacy-26.0-Disclosure-Not-Requiring-Authorization-or-Opportunity-for-Patient-to-Agree-or-Object.pdf'}\n",
    "# corrected_ppurls['Merck'] = {'ppurl': 'https://www.msdprivacy.com/us/en/internet-privacy-policy/'}\n",
    "# corrected_ppurls['Xcel Energy'] = {'ppurl': 'https://www.xcelenergy.com/staticfiles/xe/Admin/Xcel%20Online%20Privacy%20Policy.pdf'}"
   ]
  },
  {
   "cell_type": "code",
   "execution_count": 10,
   "id": "sound-layer",
   "metadata": {},
   "outputs": [],
   "source": [
    "with open('../data/policies/urls/privacy_policy_urls_corrected.json', 'w') as outfile:\n",
    "    json.dump(corrected_ppurls, outfile)"
   ]
  },
  {
   "cell_type": "markdown",
   "id": "responsible-lawyer",
   "metadata": {},
   "source": [
    "## -- final checks"
   ]
  },
  {
   "cell_type": "code",
   "execution_count": null,
   "id": "composed-parker",
   "metadata": {},
   "outputs": [],
   "source": [
    "with open('../data/policies/tmp/policies_scrape_log.json', 'r') as logstream:\n",
    "    logdict = json.load(logstream)"
   ]
  },
  {
   "cell_type": "code",
   "execution_count": null,
   "id": "joined-pontiac",
   "metadata": {},
   "outputs": [],
   "source": [
    "for k, v in logdict.items():\n",
    "    if v['n_char'] < 100:\n",
    "        print(v['firm'])\n",
    "        print(v['ppurl'])"
   ]
  }
 ],
 "metadata": {
  "kernelspec": {
   "display_name": "Python 3",
   "language": "python",
   "name": "python3"
  },
  "language_info": {
   "codemirror_mode": {
    "name": "ipython",
    "version": 3
   },
   "file_extension": ".py",
   "mimetype": "text/x-python",
   "name": "python",
   "nbconvert_exporter": "python",
   "pygments_lexer": "ipython3",
   "version": "3.8.8"
  }
 },
 "nbformat": 4,
 "nbformat_minor": 5
}
