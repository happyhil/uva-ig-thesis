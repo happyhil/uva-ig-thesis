{
 "cells": [
  {
   "cell_type": "code",
   "execution_count": null,
   "id": "southeast-spray",
   "metadata": {},
   "outputs": [],
   "source": [
    "import json"
   ]
  },
  {
   "cell_type": "code",
   "execution_count": null,
   "id": "graphic-blair",
   "metadata": {},
   "outputs": [],
   "source": [
    "READ_IN_CORRECTED = True"
   ]
  },
  {
   "cell_type": "markdown",
   "id": "temporal-ministry",
   "metadata": {},
   "source": [
    "## read in urls"
   ]
  },
  {
   "cell_type": "code",
   "execution_count": null,
   "id": "certain-boutique",
   "metadata": {},
   "outputs": [],
   "source": [
    "with open('../data/policies/tmp/policies_scrape_log.json', 'r') as logstream:\n",
    "    logdict = json.load(logstream)\n",
    "if READ_IN_CORRECTED:\n",
    "    with open('../data/policies/urls/privacy_policy_urls_corrected.json', 'r') as infile:\n",
    "        corrected_ppurls = json.load(infile)\n",
    "else:\n",
    "    corrected_ppurls = {}"
   ]
  },
  {
   "cell_type": "markdown",
   "id": "extreme-wheat",
   "metadata": {},
   "source": [
    "## -- run auto check on n chars"
   ]
  },
  {
   "cell_type": "code",
   "execution_count": null,
   "id": "developing-crash",
   "metadata": {
    "tags": []
   },
   "outputs": [],
   "source": [
    "seq = 0\n",
    "for k, v in logdict.items():\n",
    "    if v['firm'] in corrected_ppurls.keys():\n",
    "        pass\n",
    "    else:\n",
    "        if v['n_char'] < 5000:\n",
    "            seq += 1\n",
    "            print(f'{v[\"n_char\"]} chars for {v[\"firm\"]} - old url: {v[\"ppurl\"]}')\n",
    "            Join = input('Would you like to set a new url? [y/n]\\n')\n",
    "            if Join.lower() == 'yes' or Join.lower() == 'y':\n",
    "                new_ppurl = input('Please enter the correct url: ')\n",
    "                Join = 'n'\n",
    "                while Join.lower() != 'yes' or Join.lower() != 'y':\n",
    "                    Join = input(f'New url: {new_ppurl}, is this correct? [y/n]\\n')\n",
    "                    if Join.lower() == 'yes' or Join.lower() == 'y':\n",
    "                        break\n",
    "                    new_ppurl = input('Please enter the correct url: ')\n",
    "                corrected_ppurls[v['firm']] = {\n",
    "                    'ppurl': new_ppurl\n",
    "                }\n",
    "            else:\n",
    "                corrected_ppurls[v['firm']] = {\n",
    "                    'ppurl': v['ppurl']\n",
    "                }\n",
    "            print('--> url fixed, move to next one!')\n",
    "            print(f'--> n checked: {seq}')\n",
    "            print(' ')\n",
    "\n",
    "        else:\n",
    "            corrected_ppurls[v['firm']] = {\n",
    "                'ppurl': v['ppurl']\n",
    "            }"
   ]
  },
  {
   "cell_type": "code",
   "execution_count": null,
   "id": "decimal-hobby",
   "metadata": {},
   "outputs": [],
   "source": [
    "with open('../data/policies/urls/privacy_policy_urls_corrected.json', 'w') as outfile:\n",
    "    json.dump(corrected_ppurls, outfile)"
   ]
  },
  {
   "cell_type": "markdown",
   "id": "prerequisite-census",
   "metadata": {},
   "source": [
    "## -- perform manual adjustments"
   ]
  },
  {
   "cell_type": "code",
   "execution_count": null,
   "id": "administrative-failure",
   "metadata": {},
   "outputs": [],
   "source": [
    "with open('../data/policies/urls/privacy_policy_urls_corrected.json', 'r') as infile:\n",
    "    corrected_ppurls = json.load(infile)"
   ]
  },
  {
   "cell_type": "code",
   "execution_count": null,
   "id": "executed-storm",
   "metadata": {},
   "outputs": [],
   "source": [
    "# corrected_ppurls['Thermo Fisher Scientific'] = {'ppurl': 'https://www.thermofisher.com/us/en/home/global/privacy-policy.html'}\n",
    "# corrected_ppurls['Loews'] = {'ppurl': 'https://www.loewshotels.com/privacy-policy'}"
   ]
  },
  {
   "cell_type": "code",
   "execution_count": null,
   "id": "designed-evanescence",
   "metadata": {},
   "outputs": [],
   "source": [
    "with open('../data/policies/urls/privacy_policy_urls_corrected.json', 'w') as outfile:\n",
    "    json.dump(corrected_ppurls, outfile)"
   ]
  },
  {
   "cell_type": "markdown",
   "id": "fewer-liability",
   "metadata": {},
   "source": [
    "## -- final checks"
   ]
  },
  {
   "cell_type": "code",
   "execution_count": null,
   "id": "binding-shanghai",
   "metadata": {},
   "outputs": [],
   "source": [
    "with open('../data/policies/tmp/policies_scrape_log.json', 'r') as logstream:\n",
    "    logdict = json.load(logstream)"
   ]
  },
  {
   "cell_type": "code",
   "execution_count": null,
   "id": "chinese-bahamas",
   "metadata": {},
   "outputs": [],
   "source": [
    "for k, v in logdict.items():\n",
    "    if v['n_char'] < 100:\n",
    "        print(v['firm'])\n",
    "        print(v['ppurl'])"
   ]
  }
 ],
 "metadata": {
  "kernelspec": {
   "display_name": "Python 3",
   "language": "python",
   "name": "python3"
  },
  "language_info": {
   "codemirror_mode": {
    "name": "ipython",
    "version": 3
   },
   "file_extension": ".py",
   "mimetype": "text/x-python",
   "name": "python",
   "nbconvert_exporter": "python",
   "pygments_lexer": "ipython3",
   "version": "3.8.8"
  }
 },
 "nbformat": 4,
 "nbformat_minor": 5
}
