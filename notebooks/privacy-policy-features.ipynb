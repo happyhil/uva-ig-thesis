{
 "cells": [
  {
   "cell_type": "code",
   "execution_count": null,
   "id": "dynamic-gregory",
   "metadata": {},
   "outputs": [],
   "source": [
    "import os\n",
    "import json\n",
    "import string\n",
    "import textstat\n",
    "# from readability import Readability\n",
    "from src import common"
   ]
  },
  {
   "cell_type": "code",
   "execution_count": null,
   "id": "identical-batman",
   "metadata": {},
   "outputs": [],
   "source": [
    "# TODO: check manual folder, if not then check scraper folder\n",
    "# TODO: remove dubble scape in cleaning  \n",
    "# TODO: implement tries\n",
    "# TODO: make custom fog index"
   ]
  },
  {
   "cell_type": "code",
   "execution_count": null,
   "id": "distinguished-subdivision",
   "metadata": {},
   "outputs": [],
   "source": [
    "if os.path.isfile('../data/policies/urls/privacy_policy_urls_corrected.json'):\n",
    "    with open('../data/policies/urls/privacy_policy_urls_corrected.json', 'r') as infile:\n",
    "        ppurls = json.load(infile)\n",
    "else:\n",
    "    with open('../data/policies/urls/privacy_policy_urls_20210316.json', 'r') as infile:\n",
    "        ppurls = json.load(infile)"
   ]
  },
  {
   "cell_type": "code",
   "execution_count": null,
   "id": "tamil-relay",
   "metadata": {},
   "outputs": [],
   "source": [
    "AMBI_WORDS = ['Occasional', 'will', 'perhaps', 'such', 'some', 'certain', 'various', 'reasonable', 'like', 'example', 'sometimes', 'depending', 'necessary', 'appropriate', 'inappropriate',\n",
    "'generally', 'mostly','widely', 'general', 'commonly', 'usually', 'normally', 'typically', 'largely', 'often', 'may', 'might', 'can', 'could', 'would', 'likely', 'possible', 'possibly',\n",
    "'unsure', 'anyone', 'certain', 'everyone', 'numerous', 'some', 'most', 'few', 'much', 'many', 'various']"
   ]
  },
  {
   "cell_type": "code",
   "execution_count": null,
   "id": "numerous-words",
   "metadata": {},
   "outputs": [],
   "source": [
    "def clean_text(text):\n",
    "    \"\"\"\"\"\"\n",
    "    \n",
    "    translator = str.maketrans(string.punctuation, ' '*len(string.punctuation))\n",
    "    text_lowered = text.lower()\n",
    "    text_cleaned = text_lowered.translate(translator)\n",
    "    \n",
    "    return text_cleaned\n",
    "\n",
    "def score_readability(text, score_methods):\n",
    "    \"\"\"\"\"\"\n",
    "    \n",
    "#     r = Readability(text)\n",
    "    \n",
    "    scores = {}\n",
    "    for m in score_methods:\n",
    "#         scores[m] = r.smog()\n",
    "        scores[m] = textstat.gunning_fog(text)\n",
    "        \n",
    "    \n",
    "    return scores\n",
    "\n",
    "def score_tokens(text):\n",
    "    \"\"\"\"\"\"\n",
    "    \n",
    "    tokens = [t for t in text.split(' ') if len(t) > 1]\n",
    "    unique_tokens = set(tokens)\n",
    "    ambi_tokens_count = len([x for x in tokens if x in AMBI_WORDS])\n",
    "    score = ambi_tokens_count / len(tokens)\n",
    "    \n",
    "    return {\n",
    "        'n_tokens': len(tokens),\n",
    "        'n_unique_tokens': len(unique_tokens),\n",
    "        'ambiquity_score': score\n",
    "    }\n",
    "\n",
    "def run_text_analysis(text, score_methods):\n",
    "    \"\"\"\"\"\"\n",
    "    \n",
    "    text_clean = clean_text(text)    \n",
    "    \n",
    "    token_result = score_tokens(text_clean)\n",
    "    readability_result = score_readability(text, score_methods)\n",
    "    \n",
    "    result = {**token_result, **readability_result}\n",
    "    result['n_sentence'] = textstat.sentence_count(text)\n",
    "    \n",
    "    return result\n",
    "    "
   ]
  },
  {
   "cell_type": "code",
   "execution_count": null,
   "id": "classical-picture",
   "metadata": {},
   "outputs": [],
   "source": [
    "textstat.set_lang('en')\n",
    "\n",
    "full_text_features = {}\n",
    "\n",
    "verbose = False\n",
    "count = 0\n",
    "for k, v in ppurls.items():\n",
    "    count += 1\n",
    "    \n",
    "    firmhash = common.__hash(k)\n",
    "    if os.path.isfile(f'../data/policies/scraped/{firmhash}_privacy_policy.txt'):\n",
    "        with open(f'../data/policies/scraped/{firmhash}_privacy_policy.txt', 'r') as infile:\n",
    "            policytext = infile.read()\n",
    "            go = True\n",
    "    \n",
    "    else:\n",
    "        go = False\n",
    "    \n",
    "    if go:\n",
    "        \n",
    "        result = run_text_analysis(policytext, score_methods=['gunning_fog'])\n",
    "\n",
    "        print(f'{k} ==> done')\n",
    "        if verbose:\n",
    "            print(f' - Number of words: {result[\"n_tokens\"]}')\n",
    "            print(f' - Number of unique words: {result[\"n_unique_tokens\"]}')\n",
    "            print(f' - Ambiguous words: {round(result[\"ambiquity_score\"] *100, 3)}%')\n",
    "            print(f' - Number of sentences: {result[\"n_unique_tokens\"]}')\n",
    "            print(f' - Fog readability score: {result[\"gunning_fog\"]}')\n",
    "\n",
    "        full_text_features[firmhash] = {\n",
    "            'firm': k,\n",
    "            'ppurl': v['ppurl'],\n",
    "            'features': result\n",
    "        }\n",
    "\n",
    "    with open('../data/policies/features/firm_pp_features_0.1.0.json', 'w') as outfile:\n",
    "        json.dump(full_text_features, outfile)"
   ]
  },
  {
   "cell_type": "code",
   "execution_count": null,
   "id": "corporate-stamp",
   "metadata": {},
   "outputs": [],
   "source": []
  }
 ],
 "metadata": {
  "kernelspec": {
   "display_name": "Python 3",
   "language": "python",
   "name": "python3"
  },
  "language_info": {
   "codemirror_mode": {
    "name": "ipython",
    "version": 3
   },
   "file_extension": ".py",
   "mimetype": "text/x-python",
   "name": "python",
   "nbconvert_exporter": "python",
   "pygments_lexer": "ipython3",
   "version": "3.8.8"
  }
 },
 "nbformat": 4,
 "nbformat_minor": 5
}
