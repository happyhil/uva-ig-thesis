{
 "cells": [
  {
   "cell_type": "code",
   "execution_count": null,
   "id": "forced-dressing",
   "metadata": {},
   "outputs": [],
   "source": [
    "import csv\n",
    "import json\n",
    "import pandas as pd"
   ]
  },
  {
   "cell_type": "code",
   "execution_count": null,
   "id": "extraordinary-coupon",
   "metadata": {},
   "outputs": [],
   "source": [
    "with open('../data/policies/urls/privacy_policy_urls_corrected.json', 'r') as s:\n",
    "    urls = json.load(s)"
   ]
  },
  {
   "cell_type": "code",
   "execution_count": null,
   "id": "solid-criminal",
   "metadata": {},
   "outputs": [],
   "source": [
    "df_urls = pd.DataFrame({\n",
    "    'company': [k for k in urls.keys()],\n",
    "    'url': [v['ppurl'] for v in urls.values()]\n",
    "})"
   ]
  },
  {
   "cell_type": "code",
   "execution_count": null,
   "id": "linear-support",
   "metadata": {},
   "outputs": [],
   "source": [
    "df_urls.to_csv('../data/policies/urls/privacy_policy_urls_corrected.csv', index=False, quoting=csv.QUOTE_NONNUMERIC, quotechar='\"')"
   ]
  }
 ],
 "metadata": {
  "kernelspec": {
   "display_name": "Python 3",
   "language": "python",
   "name": "python3"
  },
  "language_info": {
   "codemirror_mode": {
    "name": "ipython",
    "version": 3
   },
   "file_extension": ".py",
   "mimetype": "text/x-python",
   "name": "python",
   "nbconvert_exporter": "python",
   "pygments_lexer": "ipython3",
   "version": "3.8.8"
  }
 },
 "nbformat": 4,
 "nbformat_minor": 5
}
