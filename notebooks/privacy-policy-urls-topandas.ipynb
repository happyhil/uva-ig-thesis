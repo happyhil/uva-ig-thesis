{
 "cells": [
  {
   "cell_type": "code",
   "execution_count": null,
   "id": "handed-johnston",
   "metadata": {},
   "outputs": [],
   "source": [
    "import csv\n",
    "import json\n",
    "import pandas as pd"
   ]
  },
  {
   "cell_type": "code",
   "execution_count": null,
   "id": "located-youth",
   "metadata": {},
   "outputs": [],
   "source": [
    "# with open('../data/policies/urls/privacy_policy_urls_corrected.json', 'r') as s:\n",
    "#     urls = json.load(s)\n",
    "with open('../data/policies/urls/privacy_policy_urls_20210513.json', 'r') as s:\n",
    "    urls = json.load(s)"
   ]
  },
  {
   "cell_type": "code",
   "execution_count": null,
   "id": "decreased-congo",
   "metadata": {},
   "outputs": [],
   "source": [
    "add_sample = pd.read_csv('../data/fortune/f500_firm_sample_additional.csv')\n",
    "urls = {k: v for k, v in urls.items() if k in add_sample['firm'].values}"
   ]
  },
  {
   "cell_type": "code",
   "execution_count": null,
   "id": "peripheral-situation",
   "metadata": {},
   "outputs": [],
   "source": [
    "df_urls = pd.DataFrame({\n",
    "    'company': [k for k in urls.keys()],\n",
    "    'url': [v['ppurl'] for v in urls.values()]\n",
    "})"
   ]
  },
  {
   "cell_type": "code",
   "execution_count": null,
   "id": "short-granny",
   "metadata": {},
   "outputs": [],
   "source": [
    "# df_urls.to_csv('../data/policies/urls/privacy_policy_urls_corrected.csv', index=False, quoting=csv.QUOTE_NONNUMERIC, quotechar='\"')\n",
    "df_urls.to_csv('../data/policies/urls/privacy_policy_urls_additional.csv', index=False, quoting=csv.QUOTE_NONNUMERIC, quotechar='\"')"
   ]
  }
 ],
 "metadata": {
  "kernelspec": {
   "display_name": "Python 3",
   "language": "python",
   "name": "python3"
  },
  "language_info": {
   "codemirror_mode": {
    "name": "ipython",
    "version": 3
   },
   "file_extension": ".py",
   "mimetype": "text/x-python",
   "name": "python",
   "nbconvert_exporter": "python",
   "pygments_lexer": "ipython3",
   "version": "3.8.9"
  }
 },
 "nbformat": 4,
 "nbformat_minor": 5
}
