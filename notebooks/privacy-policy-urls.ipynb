{
 "cells": [
  {
   "cell_type": "code",
   "execution_count": null,
   "id": "entire-discovery",
   "metadata": {},
   "outputs": [],
   "source": [
    "import requests\n",
    "import re\n",
    "import random\n",
    "import time\n",
    "import json\n",
    "import pandas as pd\n",
    "from datetime import datetime\n",
    "from bs4 import BeautifulSoup\n",
    "from urllib.parse import urlparse, unquote"
   ]
  },
  {
   "cell_type": "code",
   "execution_count": null,
   "id": "earlier-harvey",
   "metadata": {},
   "outputs": [],
   "source": [
    "dfcompany_sample = pd.read_csv('../data/fortune/f500_final_firm_sample.csv')\n",
    "read_in_existing = True"
   ]
  },
  {
   "cell_type": "markdown",
   "id": "controversial-means",
   "metadata": {},
   "source": [
    "## get privacy policy urls"
   ]
  },
  {
   "cell_type": "code",
   "execution_count": null,
   "id": "patient-target",
   "metadata": {},
   "outputs": [],
   "source": [
    "# get already scraped urls\n",
    "if read_in_existing:\n",
    "    current_file = '../data/policies/urls/privacy_policy_urls_20210316.json'\n",
    "    with open(current_file, 'r') as infile:\n",
    "        privacy_policy_url = json.load(infile)\n",
    "else:\n",
    "    privacy_policy_url = {}"
   ]
  },
  {
   "cell_type": "code",
   "execution_count": null,
   "id": "subsequent-tactics",
   "metadata": {},
   "outputs": [],
   "source": [
    "useragents = [\n",
    "    \"Mozilla/5.0 (Macintosh; Intel Mac OS X 10.15; rv:70.0) Gecko/20100101 Firefox/70.0\",\n",
    "    \"Mozilla/5.0 (Macintosh; Intel Mac OS X 10_15_6) AppleWebKit/605.1.15 (KHTML, like Gecko) Version/14.0.3 Safari/605.1.15\",\n",
    "    \"Mozilla/5.0 (Macintosh; Intel Mac OS X 10_15) AppleWebKit/605.1.15 (KHTML, like Gecko) Version/13.0.1 Safari/605.1.15\",\n",
    "    \"Mozilla/5.0 (Macintosh; Intel Mac OS X 10_15) AppleWebKit/537.36 (KHTML, like Gecko) Chrome/78.0.3904.70 Safari/537.36\",\n",
    "    \"Mozilla/5.0 (Linux; Android 6.0; Nexus 5 Build/MRA58N) AppleWebKit/537.36 (KHTML, like Gecko) Chrome/89.0.4389.82 Mobile Safari/537.36\",\n",
    "    \"Mozilla/5.0 (iPhone; CPU iPhone OS 13_1_3 like Mac OS X) AppleWebKit/605.1.15 (KHTML, like Gecko) Version/13.0.1 Mobile/15E148 Safari/604.1\"\n",
    "]\n",
    "\n",
    "headers = {\n",
    "    \"Accept\": \"text/html,application/xhtml+xml,application/xml;q=0.9,image/webp,image/apng,*/*;q=0.8,application/signed-exchange;v=b3;q=0.9\",\n",
    "    \"Accept-Language\": \"en-US,en;q=0.9,en;q=0.8\",\n",
    "  }\n",
    "\n",
    "full_sequence = 0\n",
    "current_sequence = 0\n",
    "\n",
    "# while len(privacy_policy_url) < len(dfcompany_sample):\n",
    "while len([x for x in dfcompany_sample['firm'].values if x not in privacy_policy_url.keys()]) > 0:\n",
    "    \n",
    "    dfcompany_sample_remaining = dfcompany_sample.loc[lambda x: ~x['firm'].isin(privacy_policy_url.keys())]\n",
    "    companies = dfcompany_sample_remaining['firm'].values\n",
    "    urls = dfcompany_sample_remaining['url'].values\n",
    "\n",
    "    for c, u in zip(companies, urls):\n",
    "\n",
    "        if full_sequence == 0:\n",
    "            max_sequence = random.randint(2, 4)\n",
    "            next_agent_row = random.randint(0, len(useragents)-1)\n",
    "            headers[\"User-Agent\"] = useragents[next_agent_row]\n",
    "        elif current_sequence <= max_sequence:\n",
    "            pass\n",
    "        else:\n",
    "            current_sequence = 0\n",
    "            max_sequence = random.randint(2, 4)\n",
    "            next_agent_row = random.randint(0, len(useragents)-1)\n",
    "            headers[\"User-Agent\"] = useragents[next_agent_row]\n",
    "\n",
    "        urlbase = urlparse(u).netloc.split('.', 1)[1]\n",
    "        searchurl = f'https://www.google.com/search?gl=us&hl=en&pws=0&sxsrf=ALeKk01avH117VYPESZ0hT1fV4z6n42bOQ%3A1615924397029&source=hp&ei=rAxRYK6iN5K43AOE8reoDg&iflsig=AINFCbYAAAAAYFEavaDtWnwDkHSJG5XLC-wnNClWFBVv&q==privacy+policy+{urlbase}'\n",
    "\n",
    "        response = requests.get(searchurl, headers=headers)\n",
    "        if response.status_code != 200:\n",
    "            print(f'Response code: {response.status_code}')\n",
    "            wait = random.randint(60, 150)\n",
    "            print(f'Sleeping for {wait} seconds')\n",
    "            time.sleep(wait)\n",
    "            print('Continue')\n",
    "            current_sequence = 0\n",
    "            break\n",
    "\n",
    "        soup = BeautifulSoup(response.content, 'html.parser')\n",
    "        search_url_results = []\n",
    "        for h in soup.findAll('a'):\n",
    "            href = h.get('href')\n",
    "            if href != None:\n",
    "                href_checked = re.search(\"(?P<url>https?://[^\\s]+)\", href)\n",
    "                if href_checked != None:\n",
    "                    href_checked = href_checked.group()\n",
    "                    href_cleaned = unquote(href_checked.split('&')[0])\n",
    "                    href_domain = urlparse(href_cleaned)\n",
    "                    href_domain_base = href_domain.netloc\n",
    "                    if re.search('google.', href_domain_base):\n",
    "                        pass\n",
    "                    elif re.search(urlbase, href_domain_base):\n",
    "                        search_url_results.append(href_cleaned)\n",
    "                    else:\n",
    "                        pass\n",
    "\n",
    "        try:\n",
    "            privacy_policy_url[c] = {\"ppurl\": search_url_results[0]}\n",
    "            print(f'=> {len(privacy_policy_url)} / {len(dfcompany_sample)}')\n",
    "            print(f'{c} - founded url: {search_url_results[0]}')\n",
    "        except:\n",
    "            privacy_policy_url[c] = {\"ppurl\": \"unknown\"}\n",
    "            print(f'=> {len(privacy_policy_url)} / {len(dfcompany_sample)}')\n",
    "            print(f'{c} - founded url: unknown')\n",
    "\n",
    "        current_sequence += 1\n",
    "        time.sleep(random.randint(30, 120) / 10)\n",
    "        full_sequence += 1\n",
    "\n",
    "        if full_sequence % random.randint(5, 40) == 0:\n",
    "            time.sleep(random.randint(60, 180))"
   ]
  },
  {
   "cell_type": "code",
   "execution_count": null,
   "id": "floral-lightning",
   "metadata": {},
   "outputs": [],
   "source": [
    "today = datetime.now().strftime('%Y%m%d')\n",
    "with open(f'../data/policies/urls/privacy_policy_urls_{today}.json', 'w') as outfile:\n",
    "    json.dump(privacy_policy_url, outfile)"
   ]
  }
 ],
 "metadata": {
  "kernelspec": {
   "display_name": "Python 3",
   "language": "python",
   "name": "python3"
  },
  "language_info": {
   "codemirror_mode": {
    "name": "ipython",
    "version": 3
   },
   "file_extension": ".py",
   "mimetype": "text/x-python",
   "name": "python",
   "nbconvert_exporter": "python",
   "pygments_lexer": "ipython3",
   "version": "3.8.9"
  }
 },
 "nbformat": 4,
 "nbformat_minor": 5
}
