{
 "cells": [
  {
   "cell_type": "code",
   "execution_count": null,
   "id": "athletic-disabled",
   "metadata": {},
   "outputs": [],
   "source": [
    "import pandas as pd\n",
    "import re\n",
    "import json\n",
    "import csv\n",
    "import pandas as pd\n",
    "from collections import Counter\n",
    "from nltk.corpus import stopwords\n",
    "from src import common, features"
   ]
  },
  {
   "cell_type": "markdown",
   "id": "dutch-driving",
   "metadata": {},
   "source": [
    "source of similarity matcher: https://stackoverflow.com/questions/6400416/figure-out-if-a-business-name-is-very-similar-to-another-one-python"
   ]
  },
  {
   "cell_type": "code",
   "execution_count": null,
   "id": "missing-parking",
   "metadata": {},
   "outputs": [],
   "source": [
    "df_prc = pd.read_csv('../data/dbs/prc_data_breach_chronology.1.13.20.csv')\n",
    "df_fortune = pd.read_csv('../data/fortune/f500_firm_sample.csv')\n",
    "\n",
    "df_prc['Date Made Public'] = pd.to_datetime(df_prc['Date Made Public'], format='%m/%d/%Y')\n",
    "df_prc_filtered = df_prc.loc[lambda x: x['Date Made Public']>='2010-01-01']\n",
    "\n",
    "firm_data_breaches, _ = features.count_prc_existence(df_fortune, df_prc_filtered)"
   ]
  },
  {
   "cell_type": "code",
   "execution_count": null,
   "id": "compressed-suspect",
   "metadata": {},
   "outputs": [],
   "source": [
    "df_firm_data_breaches = pd.DataFrame({\n",
    "    'firmhash': firm_data_breaches.keys(),\n",
    "    'n_data_breaches': firm_data_breaches.values()\n",
    "})"
   ]
  },
  {
   "cell_type": "code",
   "execution_count": null,
   "id": "boxed-halifax",
   "metadata": {},
   "outputs": [],
   "source": [
    "with open('../data/breaches/prc_firm_data_breach_matches.json', 'w') as outstream:\n",
    "    json.dump(firm_data_breaches, outstream)\n",
    "df_firm_data_breaches.to_csv('../data/breaches/prc_firm_data_breach_matches.csv',\n",
    "                             index=False)"
   ]
  },
  {
   "cell_type": "markdown",
   "id": "protected-soccer",
   "metadata": {},
   "source": [
    "### - devs"
   ]
  },
  {
   "cell_type": "code",
   "execution_count": null,
   "id": "mighty-sheet",
   "metadata": {},
   "outputs": [],
   "source": [
    "name_similarity(['apple', 'inc', 'union', 'llc'], ['apple'], _)"
   ]
  }
 ],
 "metadata": {
  "kernelspec": {
   "display_name": "Python 3",
   "language": "python",
   "name": "python3"
  },
  "language_info": {
   "codemirror_mode": {
    "name": "ipython",
    "version": 3
   },
   "file_extension": ".py",
   "mimetype": "text/x-python",
   "name": "python",
   "nbconvert_exporter": "python",
   "pygments_lexer": "ipython3",
   "version": "3.8.9"
  }
 },
 "nbformat": 4,
 "nbformat_minor": 5
}
