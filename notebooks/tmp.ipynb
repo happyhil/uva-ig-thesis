{
 "cells": [
  {
   "cell_type": "code",
   "execution_count": null,
   "id": "arabic-sugar",
   "metadata": {},
   "outputs": [],
   "source": [
    "import pandas as pd\n",
    "\n",
    "df = pd.read_csv('../data/dbs/data_gov_shareholder_types.csv')\n",
    "\n",
    "df['share_percent'] = df['share_percent'].replace('n.a.', 0).astype(float)\n",
    "\n",
    "df['firm'] = df['firm'].str.title()\n",
    "dfsummed = df.groupby(['firm', 'type'], as_index=False)[['share_percent']].sum()\n",
    "\n",
    "dfsummed.to_csv('../data/tmpoutput/data_gov_shareholder_types_summed.csv', index=False)"
   ]
  }
 ],
 "metadata": {
  "kernelspec": {
   "display_name": "Python 3",
   "language": "python",
   "name": "python3"
  },
  "language_info": {
   "codemirror_mode": {
    "name": "ipython",
    "version": 3
   },
   "file_extension": ".py",
   "mimetype": "text/x-python",
   "name": "python",
   "nbconvert_exporter": "python",
   "pygments_lexer": "ipython3",
   "version": "3.8.9"
  }
 },
 "nbformat": 4,
 "nbformat_minor": 5
}
