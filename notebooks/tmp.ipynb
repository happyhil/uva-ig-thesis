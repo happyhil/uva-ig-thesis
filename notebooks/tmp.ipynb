{
 "cells": [
  {
   "cell_type": "code",
   "execution_count": null,
   "id": "biological-snowboard",
   "metadata": {},
   "outputs": [],
   "source": [
    "import pandas as pd"
   ]
  },
  {
   "cell_type": "code",
   "execution_count": null,
   "id": "therapeutic-salad",
   "metadata": {},
   "outputs": [],
   "source": [
    "dfclean = pd.read_csv('../data/modelinput/final_model_input_ig_reputation.csv')"
   ]
  },
  {
   "cell_type": "code",
   "execution_count": null,
   "id": "excessive-tuesday",
   "metadata": {},
   "outputs": [],
   "source": [
    "dfraw = pd.read_csv('../data/modelinput/information_governance_full_dataset_raw.csv')"
   ]
  }
 ],
 "metadata": {
  "kernelspec": {
   "display_name": "Python 3",
   "language": "python",
   "name": "python3"
  },
  "language_info": {
   "codemirror_mode": {
    "name": "ipython",
    "version": 3
   },
   "file_extension": ".py",
   "mimetype": "text/x-python",
   "name": "python",
   "nbconvert_exporter": "python",
   "pygments_lexer": "ipython3",
   "version": "3.8.9"
  }
 },
 "nbformat": 4,
 "nbformat_minor": 5
}
